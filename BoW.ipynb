{
  "nbformat": 4,
  "nbformat_minor": 0,
  "metadata": {
    "colab": {
      "provenance": [],
      "authorship_tag": "ABX9TyOqzpKzL8HSnDLN8xCJemYH",
      "include_colab_link": true
    },
    "kernelspec": {
      "name": "python3",
      "display_name": "Python 3"
    },
    "language_info": {
      "name": "python"
    }
  },
  "cells": [
    {
      "cell_type": "markdown",
      "metadata": {
        "id": "view-in-github",
        "colab_type": "text"
      },
      "source": [
        "<a href=\"https://colab.research.google.com/github/Swap1984/swapnil/blob/main/BoW.ipynb\" target=\"_parent\"><img src=\"https://colab.research.google.com/assets/colab-badge.svg\" alt=\"Open In Colab\"/></a>"
      ]
    },
    {
      "cell_type": "code",
      "execution_count": 1,
      "metadata": {
        "id": "oTLn6taSbAiN"
      },
      "outputs": [],
      "source": [
        "from sklearn.feature_extraction.text import CountVectorizer\n",
        "\n",
        "# Sample documents\n",
        "documents = [\n",
        "    \"This is the first document.\",\n",
        "    \"This document is the second document.\",\n",
        "    \"And this is the third one.\",\n",
        "    \"Is this the first document?\"\n",
        "]\n"
      ]
    },
    {
      "cell_type": "code",
      "source": [
        "\n",
        "# Create the CountVectorizer instance\n",
        "vectorizer = CountVectorizer()\n"
      ],
      "metadata": {
        "id": "bKRsE5glbMW9"
      },
      "execution_count": 2,
      "outputs": []
    },
    {
      "cell_type": "code",
      "source": [
        "\n",
        "# Fit and transform the documents into a BoW matrix\n",
        "X = vectorizer.fit_transform(documents)\n",
        "\n"
      ],
      "metadata": {
        "id": "Cwq3euU4bTnQ"
      },
      "execution_count": 3,
      "outputs": []
    },
    {
      "cell_type": "code",
      "source": [
        "# Get the feature names and the matrix\n",
        "feature_names = vectorizer.get_feature_names_out()\n",
        "bow_matrix = X.toarray()\n",
        "\n"
      ],
      "metadata": {
        "id": "splptU07bVot"
      },
      "execution_count": 4,
      "outputs": []
    },
    {
      "cell_type": "code",
      "source": [
        "print(\"Feature Names:\", feature_names)\n",
        "print(\"BoW Matrix:\\n\", bow_matrix)"
      ],
      "metadata": {
        "colab": {
          "base_uri": "https://localhost:8080/"
        },
        "id": "850bqrNhbXkY",
        "outputId": "b3b41c7c-20e7-4fe9-cae3-24d86e00b227"
      },
      "execution_count": 5,
      "outputs": [
        {
          "output_type": "stream",
          "name": "stdout",
          "text": [
            "Feature Names: ['and' 'document' 'first' 'is' 'one' 'second' 'the' 'third' 'this']\n",
            "BoW Matrix:\n",
            " [[0 1 1 1 0 0 1 0 1]\n",
            " [0 2 0 1 0 1 1 0 1]\n",
            " [1 0 0 1 1 0 1 1 1]\n",
            " [0 1 1 1 0 0 1 0 1]]\n"
          ]
        }
      ]
    },
    {
      "cell_type": "markdown",
      "source": [
        "# Analysis"
      ],
      "metadata": {
        "id": "vcebWWgZdsHp"
      }
    },
    {
      "cell_type": "markdown",
      "source": [
        "Feature Names\n",
        "The words (features) corresponding to the columns are: ['and', 'document', 'first', 'is', 'one', 'second', 'the', 'third', 'this']\n",
        "\n",
        "Interpretation of Word Frequencies\n",
        "Document 1: \"This is the first document.\"\n",
        "\n",
        "Word frequencies:\n",
        "'document': 1\n",
        "'first': 1\n",
        "'is': 1\n",
        "'the': 1\n",
        "'this': 1\n",
        "Total words: 5\n",
        "Document 2: \"This document is the second document.\"\n",
        "\n",
        "Word frequencies:\n",
        "'document': 2\n",
        "'is': 1\n",
        "'second': 1\n",
        "'the': 1\n",
        "'this': 1\n",
        "Total words: 6\n",
        "Document 3: \"And this is the third one.\"\n",
        "\n",
        "Word frequencies:\n",
        "'and': 1\n",
        "'is': 1\n",
        "'one': 1\n",
        "'the': 1\n",
        "'third': 1\n",
        "'this': 1\n",
        "Total words: 6\n",
        "Document 4: \"Is this the first document?\"\n",
        "\n",
        "Word frequencies:\n",
        "'document': 1\n",
        "'first': 1\n",
        "'is': 1\n",
        "'the': 1\n",
        "'this': 1\n",
        "Total words: 5\n",
        "Sparsity Analysis\n",
        "Sparsity refers to the number of zero entries in the matrix compared to the total number of elements.\n",
        "The matrix has 9 columns (words) and 4 rows (documents), making a total of\n",
        "9\n",
        "×\n",
        "4\n",
        "=\n",
        "36\n",
        "9×4=36 elements.\n",
        "There are 20 zeros in the matrix, meaning approximately 56% of the matrix is sparse.\n",
        "Observations:\n",
        "'document' and 'is' are the most frequent words across documents.\n",
        "\n",
        "'document' appears 5 times in total.\n",
        "'is' appears in every document, with a total count of 4.\n",
        "Unique words:\n",
        "\n",
        "'and', 'one', 'second', and 'third' appear only once in the entire corpus.\n",
        "Word repetition:\n",
        "\n",
        "Only 'document' is repeated within the same document (Document 2).\n",
        "Sparsity:\n",
        "\n",
        "The matrix has a fair amount of sparsity (56%). This is typical in natural language processing tasks where many words do not appear in all documents, especially for smaller datasets.\n",
        "Conclusion:\n",
        "The BoW representation captures the frequency of words in each document, making it easy to analyze common and rare terms.\n",
        "The sparsity indicates that many words do not appear across all documents, a common occurrence in text analysis.\n",
        "Words like 'document' and 'is' are highly frequent and might be considered stopwords, which are often filtered out in more sophisticated text analysis models."
      ],
      "metadata": {
        "id": "-WqJcBXmdxt-"
      }
    }
  ]
}