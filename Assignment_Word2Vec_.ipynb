{
  "nbformat": 4,
  "nbformat_minor": 0,
  "metadata": {
    "colab": {
      "provenance": [],
      "collapsed_sections": [
        "cAqL1ddjBYlj",
        "UOqFSFusEHu7",
        "BEAW613GJ2YS",
        "YIGC5uunKCOY",
        "YwWXlhG4OcvQ"
      ],
      "authorship_tag": "ABX9TyOkFFTaItKLetzvt0dfsyCg",
      "include_colab_link": true
    },
    "kernelspec": {
      "name": "python3",
      "display_name": "Python 3"
    },
    "language_info": {
      "name": "python"
    }
  },
  "cells": [
    {
      "cell_type": "markdown",
      "metadata": {
        "id": "view-in-github",
        "colab_type": "text"
      },
      "source": [
        "<a href=\"https://colab.research.google.com/github/Swap1984/swapnil/blob/main/Assignment_Word2Vec_.ipynb\" target=\"_parent\"><img src=\"https://colab.research.google.com/assets/colab-badge.svg\" alt=\"Open In Colab\"/></a>"
      ]
    },
    {
      "cell_type": "markdown",
      "source": [
        "# Word2Vec: embedding\n",
        "\n",
        "\n",
        "\n",
        "\n",
        "\n",
        "\n"
      ],
      "metadata": {
        "id": "QYRnowpl8ySC"
      }
    },
    {
      "cell_type": "markdown",
      "source": [
        "# Definition, Advantages and Disadvantages of Word2Vec"
      ],
      "metadata": {
        "id": "H1bqmeMC_rsm"
      }
    },
    {
      "cell_type": "markdown",
      "source": [
        "**Definition**\n",
        "\n",
        "Word2Vec is a popular word embedding technique that converts words into numerical vectors, typically of fixed size, which capture semantic meaning and relationships between words. It’s based on the idea that words used in similar contexts tend to have similar meanings.\n",
        "\n",
        "Word2Vec is a popular word embedding technique that converts words into numerical vectors, typically of fixed size, which capture semantic meaning and relationships between words. It’s based on the idea that words used in similar contexts tend to have similar meanings.\n",
        "\n",
        "**How Word2Vec Works:**\n",
        "\n",
        "Word2Vec relies on two primary architectures for learning word representations:\n",
        "\n",
        "Continuous Bag of Words (CBOW):\n",
        "\n",
        "Predicts the current word based on the context (neighboring words).\n",
        "Focuses on using surrounding words to predict the target word.\n",
        "\n",
        "Skip-Gram:\n",
        "\n",
        "Predicts surrounding words based on the current word.\n",
        "Focuses on using the target word to predict surrounding words.\n",
        "Both models output word vectors where words with similar meanings are represented by vectors that are close to each other in the vector space.\n",
        "\n",
        "**Why Word2Vec is Used:**\n",
        "\n",
        "Word2Vec is used to overcome the limitations of traditional approaches like Bag of Words (BoW) or TF-IDF, which:\n",
        "\n",
        "Do not capture the semantic relationships between words.\n",
        "Result in sparse, high-dimensional vectors.\n",
        "Treat words as isolated units without considering word meaning or relationships (e.g., \"king\" and \"queen\" are treated as entirely distinct words).\n",
        "Word2Vec, on the other hand, creates dense, low-dimensional embeddings where semantically similar words (like “king” and “queen”) are close to each other in the vector space.\n",
        "\n",
        "**Key Advantages of Word2Vec:**\n",
        "\n",
        "Captures Semantic Meaning:\n",
        "\n",
        "Word2Vec captures relationships between words. For instance, \"king\" and \"queen\" might have vectors that are similar, and relationships like king – man + woman = queen can be inferred through vector arithmetic.\n",
        "\n",
        "Efficient Representation:\n",
        "\n",
        "Instead of large, sparse vectors (like in BoW), Word2Vec generates dense, fixed-length vectors that efficiently encode word meaning.\n",
        "\n",
        "Contextual Understanding:\n",
        "\n",
        "Words that appear in similar contexts tend to have similar vectors. This allows Word2Vec to capture word meanings based on how they are used in sentences.\n",
        "\n",
        "Ability to Perform Analogies:\n",
        "\n",
        "Word2Vec allows vector arithmetic, so relationships like Paris – France + Germany = Berlin can be inferred by manipulating the word vectors.\n",
        "\n",
        "Scalable and Efficient:\n",
        "\n",
        "Word2Vec can be trained on large datasets efficiently, and the learned embeddings can be used across different tasks.\n",
        "\n",
        "Dimensionality Reduction:\n",
        "\n",
        "Word2Vec provides low-dimensional vectors (typically 100–300 dimensions), which can be used as input for downstream NLP tasks like text classification, clustering, or sentiment analysis.\n",
        "\n",
        "**Limitations of Traditional Methods:**\n",
        "\n",
        "Bag of Words:\n",
        "\n",
        "Only counts word occurrences; doesn't consider word order or context.\n",
        "High dimensionality and sparsity.\n",
        "Fails to capture the meaning of words.\n",
        "\n",
        "TF-IDF:\n",
        "\n",
        "Weighs word importance but still ignores word order and meaning.\n",
        "Does not capture relationships between words.\n",
        "\n",
        "**Applications of Word2Vec:**\n",
        "Text Classification:\n",
        "The dense vectors can be used as input for machine learning models for tasks like sentiment analysis or spam detection.\n",
        "\n",
        "Document Similarity: Word vectors help in calculating document similarity by comparing the vector representations of words.\n",
        "\n",
        "Machine Translation: The embeddings can help translate words from one language to another by capturing word relationships.\n",
        "\n",
        "Recommendation Systems: By using vector similarities, Word2Vec can recommend similar items based on text descriptions or user interactions.\n",
        "\n",
        "Word2Vec is a powerful word embedding technique that generates dense, fixed-length vectors, capturing the semantic and syntactic properties of words based on the contexts in which they appear.\n",
        "It’s widely used because of its ability to capture word meaning, its efficiency, and its ability to handle large-scale text data effectively.\n"
      ],
      "metadata": {
        "id": "bUWWZB-g_4OT"
      }
    },
    {
      "cell_type": "markdown",
      "source": [
        "#**Preprocessing data for Word2Vec**"
      ],
      "metadata": {
        "id": "cAqL1ddjBYlj"
      }
    },
    {
      "cell_type": "markdown",
      "source": [
        " Word2Vec has a different approach to processing text compared to methods like Bag of Words (BoW) or TF-IDF, which rely heavily on explicit preprocessing steps such as punctuation removal, lemmatization, and stopword filtering.\n",
        "\n",
        " In traditional approaches like BoW or TF-IDF, removing punctuation is essential to avoid treating punctuation as \"words.\"In Word2Vec, the model learns semantic relationships between words by predicting them from the context. It generally doesn't need to strip punctuation explicitly if the corpus is already clean and the punctuation marks aren't significant. We might still clean the text, but it’s not strictly required as part of the Word2Vec process.\n",
        "\n",
        "For BoW or TF-IDF, removing stopwords is often useful to reduce the dimensionality of the vectors (since common words like \"the\", \"and\", etc., don't contribute much to the meaning).In Word2Vec, stopwords can be useful because they still provide context for the words in a sentence. Since Word2Vec relies on the surrounding context to learn word vectors, removing stopwords can sometimes strip away important contextual information.\n",
        "\n",
        "In BoW or TF-IDF, lemmatization is often necessary to reduce inflected forms of words to their base forms (e.g., \"running\" to \"run\") so that they are treated as the same word.In Word2Vec, the model learns the semantics from words in their original forms. Inflected forms like \"running\" and \"run\" may have slightly different contextual meanings, and Word2Vec can learn distinct vectors for them based on how they are used in context.Lemmatization is not always required because the model will distinguish different forms of a word based on how they are used in the surrounding text.\n",
        "\n",
        "**Why Word2Vec Can Skip Preprocessing:**\n",
        "\n",
        "Context-based Learning: Word2Vec focuses on contextual learning. The idea is that a word's meaning can be learned from the words surrounding it. Even if some stopwords or inflections are present, the model can still learn high-quality embeddings.\n",
        "\n",
        "Word Vectors Are Dense: Word2Vec doesn’t generate sparse matrices (like BoW or TF-IDF). It produces dense vectors of fixed size, and the training process uses the surrounding context (window size) to train the vectors, meaning that the presence of unimportant words (e.g., stopwords) doesn't necessarily degrade performance.\n",
        "\n",
        "Smarter Embeddings: Word2Vec embeddings capture more complex relationships (like word analogies) that can handle nuances in word forms and context without extensive preprocessing.\n",
        "\n",
        "When You Might Still Preprocess for Word2Vec:\n",
        "\n",
        "**Domain-Specific Datasets:**\n",
        "\n",
        " If your text contains a lot of noise, unusual characters, or specific domain-related patterns (e.g., lots of punctuation or formatting), you might still want to preprocess the data.\n",
        "\n",
        "Cleaner Training:\n",
        " While not strictly necessary, some basic preprocessing like converting to lowercase, removing very specific punctuation, or dealing with rare symbols could help produce better embeddings.\n",
        "\n",
        "Thus, we don’t always remove stopwords when using Word2Vec."
      ],
      "metadata": {
        "id": "ltDMWwoEBu1L"
      }
    },
    {
      "cell_type": "markdown",
      "source": [
        "Initialising Libraries for  preprocessing the data for emmbedding\n"
      ],
      "metadata": {
        "id": "ZrS8n8EHAbyd"
      }
    },
    {
      "cell_type": "code",
      "source": [
        "import string #This module is used to remove punctuation from the text.\n",
        "from nltk.corpus import stopwords #  Provides a list of common English stopwords (e.g., \"the\", \"is\") that are generally not informative in text analysis.\n",
        "from nltk.tokenize import word_tokenize # to Tokenize a string into individual words.\n",
        "from nltk.tokenize import word_tokenize # to Tokenize a string into individual words.\n",
        "\n"
      ],
      "metadata": {
        "id": "4knDdxQk8sdK"
      },
      "execution_count": null,
      "outputs": []
    },
    {
      "cell_type": "code",
      "source": [
        "from nltk.tokenize import word_tokenize\n",
        "import nltk\n",
        "\n",
        "# Download required data from NLTK\n",
        "nltk.download('punkt')"
      ],
      "metadata": {
        "colab": {
          "base_uri": "https://localhost:8080/"
        },
        "id": "x8vx9iJHDRRW",
        "outputId": "1ab1347f-c374-49a4-83b1-7c623b9b0bab"
      },
      "execution_count": null,
      "outputs": [
        {
          "output_type": "stream",
          "name": "stderr",
          "text": [
            "[nltk_data] Downloading package punkt to /root/nltk_data...\n",
            "[nltk_data]   Unzipping tokenizers/punkt.zip.\n"
          ]
        },
        {
          "output_type": "execute_result",
          "data": {
            "text/plain": [
              "True"
            ]
          },
          "metadata": {},
          "execution_count": 4
        }
      ]
    },
    {
      "cell_type": "markdown",
      "source": [
        "Using the paragraph as input document"
      ],
      "metadata": {
        "id": "DIcWvczr80X6"
      }
    },
    {
      "cell_type": "code",
      "source": [
        "# using a paragraph as input . data =\"\"   \"\"\n",
        "data = \"\"\"Yes, life is full, there is life even underground,” he began again. “You wouldn’t believe, Alexey, how I want to live now, what a thirst for existence and consciousness has sprung up in me within these peeling walls… And what is suffering? I am not afraid of it, even if it were beyond reckoning. I am not afraid of it now. I was afraid of it before… And I seem to have such strength in me now, that I think I could stand anything, any suffering, only to be able to say and to repeat to myself every moment, ‘I exist.’ In thousands of agonies — I exist. I’m tormented on the rack — but I exist! Though I sit alone on a pillar — I exist! I see the sun, and if I don’t see the sun, I know it’s there. And there’s a whole life in that, in knowing that the sun is there.\"\"\""
      ],
      "metadata": {
        "id": "CpjVCi6q8pos"
      },
      "execution_count": null,
      "outputs": []
    },
    {
      "cell_type": "markdown",
      "source": [
        "Preprocessing the document for plain text so that tokenisation is simpler\n"
      ],
      "metadata": {
        "id": "6azMBvxi8554"
      }
    },
    {
      "cell_type": "code",
      "source": [
        "# Tokenize the text into words\n",
        "tokens = word_tokenize(data.lower())\n",
        "tokens"
      ],
      "metadata": {
        "colab": {
          "base_uri": "https://localhost:8080/"
        },
        "id": "H1s1bFbFDd0Z",
        "outputId": "3d6d1611-8362-4930-9496-64692f69c831"
      },
      "execution_count": null,
      "outputs": [
        {
          "output_type": "execute_result",
          "data": {
            "text/plain": [
              "['yes',\n",
              " ',',\n",
              " 'life',\n",
              " 'is',\n",
              " 'full',\n",
              " ',',\n",
              " 'there',\n",
              " 'is',\n",
              " 'life',\n",
              " 'even',\n",
              " 'underground',\n",
              " ',',\n",
              " '”',\n",
              " 'he',\n",
              " 'began',\n",
              " 'again',\n",
              " '.',\n",
              " '“',\n",
              " 'you',\n",
              " 'wouldn',\n",
              " '’',\n",
              " 't',\n",
              " 'believe',\n",
              " ',',\n",
              " 'alexey',\n",
              " ',',\n",
              " 'how',\n",
              " 'i',\n",
              " 'want',\n",
              " 'to',\n",
              " 'live',\n",
              " 'now',\n",
              " ',',\n",
              " 'what',\n",
              " 'a',\n",
              " 'thirst',\n",
              " 'for',\n",
              " 'existence',\n",
              " 'and',\n",
              " 'consciousness',\n",
              " 'has',\n",
              " 'sprung',\n",
              " 'up',\n",
              " 'in',\n",
              " 'me',\n",
              " 'within',\n",
              " 'these',\n",
              " 'peeling',\n",
              " 'walls…',\n",
              " 'and',\n",
              " 'what',\n",
              " 'is',\n",
              " 'suffering',\n",
              " '?',\n",
              " 'i',\n",
              " 'am',\n",
              " 'not',\n",
              " 'afraid',\n",
              " 'of',\n",
              " 'it',\n",
              " ',',\n",
              " 'even',\n",
              " 'if',\n",
              " 'it',\n",
              " 'were',\n",
              " 'beyond',\n",
              " 'reckoning',\n",
              " '.',\n",
              " 'i',\n",
              " 'am',\n",
              " 'not',\n",
              " 'afraid',\n",
              " 'of',\n",
              " 'it',\n",
              " 'now',\n",
              " '.',\n",
              " 'i',\n",
              " 'was',\n",
              " 'afraid',\n",
              " 'of',\n",
              " 'it',\n",
              " 'before…',\n",
              " 'and',\n",
              " 'i',\n",
              " 'seem',\n",
              " 'to',\n",
              " 'have',\n",
              " 'such',\n",
              " 'strength',\n",
              " 'in',\n",
              " 'me',\n",
              " 'now',\n",
              " ',',\n",
              " 'that',\n",
              " 'i',\n",
              " 'think',\n",
              " 'i',\n",
              " 'could',\n",
              " 'stand',\n",
              " 'anything',\n",
              " ',',\n",
              " 'any',\n",
              " 'suffering',\n",
              " ',',\n",
              " 'only',\n",
              " 'to',\n",
              " 'be',\n",
              " 'able',\n",
              " 'to',\n",
              " 'say',\n",
              " 'and',\n",
              " 'to',\n",
              " 'repeat',\n",
              " 'to',\n",
              " 'myself',\n",
              " 'every',\n",
              " 'moment',\n",
              " ',',\n",
              " '‘',\n",
              " 'i',\n",
              " 'exist.',\n",
              " '’',\n",
              " 'in',\n",
              " 'thousands',\n",
              " 'of',\n",
              " 'agonies',\n",
              " '—',\n",
              " 'i',\n",
              " 'exist',\n",
              " '.',\n",
              " 'i',\n",
              " '’',\n",
              " 'm',\n",
              " 'tormented',\n",
              " 'on',\n",
              " 'the',\n",
              " 'rack',\n",
              " '—',\n",
              " 'but',\n",
              " 'i',\n",
              " 'exist',\n",
              " '!',\n",
              " 'though',\n",
              " 'i',\n",
              " 'sit',\n",
              " 'alone',\n",
              " 'on',\n",
              " 'a',\n",
              " 'pillar',\n",
              " '—',\n",
              " 'i',\n",
              " 'exist',\n",
              " '!',\n",
              " 'i',\n",
              " 'see',\n",
              " 'the',\n",
              " 'sun',\n",
              " ',',\n",
              " 'and',\n",
              " 'if',\n",
              " 'i',\n",
              " 'don',\n",
              " '’',\n",
              " 't',\n",
              " 'see',\n",
              " 'the',\n",
              " 'sun',\n",
              " ',',\n",
              " 'i',\n",
              " 'know',\n",
              " 'it',\n",
              " '’',\n",
              " 's',\n",
              " 'there',\n",
              " '.',\n",
              " 'and',\n",
              " 'there',\n",
              " '’',\n",
              " 's',\n",
              " 'a',\n",
              " 'whole',\n",
              " 'life',\n",
              " 'in',\n",
              " 'that',\n",
              " ',',\n",
              " 'in',\n",
              " 'knowing',\n",
              " 'that',\n",
              " 'the',\n",
              " 'sun',\n",
              " 'is',\n",
              " 'there',\n",
              " '.']"
            ]
          },
          "metadata": {},
          "execution_count": 6
        }
      ]
    },
    {
      "cell_type": "code",
      "source": [
        "# Remove punctuation from the tokenized words\n",
        "tokens_cleaned = [word for word in tokens if word.isalpha()]\n",
        "tokens_cleaned"
      ],
      "metadata": {
        "colab": {
          "base_uri": "https://localhost:8080/"
        },
        "id": "XmwMlvpPDwpU",
        "outputId": "fa09e9a8-1b3f-403c-9057-29b49b757d88"
      },
      "execution_count": null,
      "outputs": [
        {
          "output_type": "execute_result",
          "data": {
            "text/plain": [
              "['yes',\n",
              " 'life',\n",
              " 'is',\n",
              " 'full',\n",
              " 'there',\n",
              " 'is',\n",
              " 'life',\n",
              " 'even',\n",
              " 'underground',\n",
              " 'he',\n",
              " 'began',\n",
              " 'again',\n",
              " 'you',\n",
              " 'wouldn',\n",
              " 't',\n",
              " 'believe',\n",
              " 'alexey',\n",
              " 'how',\n",
              " 'i',\n",
              " 'want',\n",
              " 'to',\n",
              " 'live',\n",
              " 'now',\n",
              " 'what',\n",
              " 'a',\n",
              " 'thirst',\n",
              " 'for',\n",
              " 'existence',\n",
              " 'and',\n",
              " 'consciousness',\n",
              " 'has',\n",
              " 'sprung',\n",
              " 'up',\n",
              " 'in',\n",
              " 'me',\n",
              " 'within',\n",
              " 'these',\n",
              " 'peeling',\n",
              " 'and',\n",
              " 'what',\n",
              " 'is',\n",
              " 'suffering',\n",
              " 'i',\n",
              " 'am',\n",
              " 'not',\n",
              " 'afraid',\n",
              " 'of',\n",
              " 'it',\n",
              " 'even',\n",
              " 'if',\n",
              " 'it',\n",
              " 'were',\n",
              " 'beyond',\n",
              " 'reckoning',\n",
              " 'i',\n",
              " 'am',\n",
              " 'not',\n",
              " 'afraid',\n",
              " 'of',\n",
              " 'it',\n",
              " 'now',\n",
              " 'i',\n",
              " 'was',\n",
              " 'afraid',\n",
              " 'of',\n",
              " 'it',\n",
              " 'and',\n",
              " 'i',\n",
              " 'seem',\n",
              " 'to',\n",
              " 'have',\n",
              " 'such',\n",
              " 'strength',\n",
              " 'in',\n",
              " 'me',\n",
              " 'now',\n",
              " 'that',\n",
              " 'i',\n",
              " 'think',\n",
              " 'i',\n",
              " 'could',\n",
              " 'stand',\n",
              " 'anything',\n",
              " 'any',\n",
              " 'suffering',\n",
              " 'only',\n",
              " 'to',\n",
              " 'be',\n",
              " 'able',\n",
              " 'to',\n",
              " 'say',\n",
              " 'and',\n",
              " 'to',\n",
              " 'repeat',\n",
              " 'to',\n",
              " 'myself',\n",
              " 'every',\n",
              " 'moment',\n",
              " 'i',\n",
              " 'in',\n",
              " 'thousands',\n",
              " 'of',\n",
              " 'agonies',\n",
              " 'i',\n",
              " 'exist',\n",
              " 'i',\n",
              " 'm',\n",
              " 'tormented',\n",
              " 'on',\n",
              " 'the',\n",
              " 'rack',\n",
              " 'but',\n",
              " 'i',\n",
              " 'exist',\n",
              " 'though',\n",
              " 'i',\n",
              " 'sit',\n",
              " 'alone',\n",
              " 'on',\n",
              " 'a',\n",
              " 'pillar',\n",
              " 'i',\n",
              " 'exist',\n",
              " 'i',\n",
              " 'see',\n",
              " 'the',\n",
              " 'sun',\n",
              " 'and',\n",
              " 'if',\n",
              " 'i',\n",
              " 'don',\n",
              " 't',\n",
              " 'see',\n",
              " 'the',\n",
              " 'sun',\n",
              " 'i',\n",
              " 'know',\n",
              " 'it',\n",
              " 's',\n",
              " 'there',\n",
              " 'and',\n",
              " 'there',\n",
              " 's',\n",
              " 'a',\n",
              " 'whole',\n",
              " 'life',\n",
              " 'in',\n",
              " 'that',\n",
              " 'in',\n",
              " 'knowing',\n",
              " 'that',\n",
              " 'the',\n",
              " 'sun',\n",
              " 'is',\n",
              " 'there']"
            ]
          },
          "metadata": {},
          "execution_count": 7
        }
      ]
    },
    {
      "cell_type": "markdown",
      "source": [
        "# Word2Vec Code with single paragraph as input text"
      ],
      "metadata": {
        "id": "UOqFSFusEHu7"
      }
    },
    {
      "cell_type": "code",
      "source": [
        "from gensim.models import Word2Vec"
      ],
      "metadata": {
        "id": "x6q0o3kWD7-x"
      },
      "execution_count": null,
      "outputs": []
    },
    {
      "cell_type": "code",
      "source": [
        "# Organize tokens into sentences (Word2Vec expects a list of sentences, where each sentence is a list of words)\n",
        "sentences = [tokens_cleaned]\n",
        "sentences"
      ],
      "metadata": {
        "colab": {
          "base_uri": "https://localhost:8080/"
        },
        "id": "5Qho7klSEcxE",
        "outputId": "1780ece1-6fd1-477d-b4bc-9f6138c19eb9"
      },
      "execution_count": null,
      "outputs": [
        {
          "output_type": "execute_result",
          "data": {
            "text/plain": [
              "[['yes',\n",
              "  'life',\n",
              "  'is',\n",
              "  'full',\n",
              "  'there',\n",
              "  'is',\n",
              "  'life',\n",
              "  'even',\n",
              "  'underground',\n",
              "  'he',\n",
              "  'began',\n",
              "  'again',\n",
              "  'you',\n",
              "  'wouldn',\n",
              "  't',\n",
              "  'believe',\n",
              "  'alexey',\n",
              "  'how',\n",
              "  'i',\n",
              "  'want',\n",
              "  'to',\n",
              "  'live',\n",
              "  'now',\n",
              "  'what',\n",
              "  'a',\n",
              "  'thirst',\n",
              "  'for',\n",
              "  'existence',\n",
              "  'and',\n",
              "  'consciousness',\n",
              "  'has',\n",
              "  'sprung',\n",
              "  'up',\n",
              "  'in',\n",
              "  'me',\n",
              "  'within',\n",
              "  'these',\n",
              "  'peeling',\n",
              "  'and',\n",
              "  'what',\n",
              "  'is',\n",
              "  'suffering',\n",
              "  'i',\n",
              "  'am',\n",
              "  'not',\n",
              "  'afraid',\n",
              "  'of',\n",
              "  'it',\n",
              "  'even',\n",
              "  'if',\n",
              "  'it',\n",
              "  'were',\n",
              "  'beyond',\n",
              "  'reckoning',\n",
              "  'i',\n",
              "  'am',\n",
              "  'not',\n",
              "  'afraid',\n",
              "  'of',\n",
              "  'it',\n",
              "  'now',\n",
              "  'i',\n",
              "  'was',\n",
              "  'afraid',\n",
              "  'of',\n",
              "  'it',\n",
              "  'and',\n",
              "  'i',\n",
              "  'seem',\n",
              "  'to',\n",
              "  'have',\n",
              "  'such',\n",
              "  'strength',\n",
              "  'in',\n",
              "  'me',\n",
              "  'now',\n",
              "  'that',\n",
              "  'i',\n",
              "  'think',\n",
              "  'i',\n",
              "  'could',\n",
              "  'stand',\n",
              "  'anything',\n",
              "  'any',\n",
              "  'suffering',\n",
              "  'only',\n",
              "  'to',\n",
              "  'be',\n",
              "  'able',\n",
              "  'to',\n",
              "  'say',\n",
              "  'and',\n",
              "  'to',\n",
              "  'repeat',\n",
              "  'to',\n",
              "  'myself',\n",
              "  'every',\n",
              "  'moment',\n",
              "  'i',\n",
              "  'in',\n",
              "  'thousands',\n",
              "  'of',\n",
              "  'agonies',\n",
              "  'i',\n",
              "  'exist',\n",
              "  'i',\n",
              "  'm',\n",
              "  'tormented',\n",
              "  'on',\n",
              "  'the',\n",
              "  'rack',\n",
              "  'but',\n",
              "  'i',\n",
              "  'exist',\n",
              "  'though',\n",
              "  'i',\n",
              "  'sit',\n",
              "  'alone',\n",
              "  'on',\n",
              "  'a',\n",
              "  'pillar',\n",
              "  'i',\n",
              "  'exist',\n",
              "  'i',\n",
              "  'see',\n",
              "  'the',\n",
              "  'sun',\n",
              "  'and',\n",
              "  'if',\n",
              "  'i',\n",
              "  'don',\n",
              "  't',\n",
              "  'see',\n",
              "  'the',\n",
              "  'sun',\n",
              "  'i',\n",
              "  'know',\n",
              "  'it',\n",
              "  's',\n",
              "  'there',\n",
              "  'and',\n",
              "  'there',\n",
              "  's',\n",
              "  'a',\n",
              "  'whole',\n",
              "  'life',\n",
              "  'in',\n",
              "  'that',\n",
              "  'in',\n",
              "  'knowing',\n",
              "  'that',\n",
              "  'the',\n",
              "  'sun',\n",
              "  'is',\n",
              "  'there']]"
            ]
          },
          "metadata": {},
          "execution_count": 9
        }
      ]
    },
    {
      "cell_type": "markdown",
      "source": [
        "#Training the Word2Vec model with CBOW"
      ],
      "metadata": {
        "id": "BEAW613GJ2YS"
      }
    },
    {
      "cell_type": "code",
      "source": [
        "# Train the Word2Vec model\n",
        "# Initialize and train the Word2Vec model with CBOW\n",
        "# Parameters:\n",
        "# - sg: 1 means skip-gram, 0 means CBOW (Continuous Bag of Words)\n",
        "# - vector_size: dimension of the word vectors\n",
        "# - window: max distance between current and predicted word\n",
        "# - min_count: ignore words that appear less than this\n",
        "word2vec_model = Word2Vec(sentences, vector_size=100, window=5, min_count=1, sg=0)"
      ],
      "metadata": {
        "id": "FxNaWu_IEova"
      },
      "execution_count": null,
      "outputs": []
    },
    {
      "cell_type": "markdown",
      "source": [
        "Significance of thje parameters used to train the Word2Vec model is as follows\n",
        "**Word2Vec(sentences, vector_size=100, window=5, min_count=1, sg=0):**\n",
        "\n",
        "sentences: The input data for training (the tokenized text).\n",
        "\n",
        "vector_size=100: The size of the word vectors to be generated. Each word will be represented by a vector of 100 dimensions.\n",
        "\n",
        "window=5: The maximum distance between the current and predicted word within a sentence. In other words, how many words to look at before and after a word when training the model.\n",
        "\n",
        "min_count=1: Ignores words that appear less than this number in the corpus. Since this is a small text, we set it to 1.\n",
        "\n",
        "sg=0: Uses the Continuous Bag of Words (CBOW) model (if sg=1, it would use Skip-Gram). CBOW predicts a word from its surrounding context."
      ],
      "metadata": {
        "id": "stacpAmAICK4"
      }
    },
    {
      "cell_type": "code",
      "source": [
        "# View the vocabulary learned by the model\n",
        "vocabulary = list(word2vec_model.wv.index_to_key)#This returns the vocabulary that the model has learned. It's the list of unique words that were trained.\n",
        "print(\"Vocabulary:\", vocabulary)"
      ],
      "metadata": {
        "colab": {
          "base_uri": "https://localhost:8080/"
        },
        "id": "2kqOBadrEx1t",
        "outputId": "b1bb3d0e-87f9-4b53-e656-dc54c4a4a3ad"
      },
      "execution_count": null,
      "outputs": [
        {
          "output_type": "stream",
          "name": "stdout",
          "text": [
            "Vocabulary: ['i', 'to', 'and', 'in', 'it', 'there', 'of', 'is', 'the', 'sun', 'afraid', 'life', 'that', 'a', 'exist', 'now', 'not', 'me', 'am', 'what', 'if', 'suffering', 's', 'see', 't', 'even', 'on', 'how', 'sprung', 'full', 'underground', 'these', 'within', 'he', 'began', 'up', 'consciousness', 'has', 'alexey', 'again', 'existence', 'for', 'thirst', 'you', 'wouldn', 'live', 'believe', 'peeling', 'want', 'knowing', 'whole', 'rack', 'every', 'moment', 'thousands', 'agonies', 'm', 'tormented', 'but', 'repeat', 'though', 'sit', 'alone', 'pillar', 'don', 'know', 'myself', 'say', 'were', 'strength', 'beyond', 'reckoning', 'was', 'seem', 'have', 'such', 'think', 'able', 'could', 'stand', 'anything', 'any', 'only', 'be', 'yes']\n"
          ]
        }
      ]
    },
    {
      "cell_type": "code",
      "source": [
        "# Access the word vector for 'sun'\n",
        "vector_sun = word2vec_model.wv['sun']\n",
        "print(\"Vector for 'sun':\", vector_sun) # this will return a vector of size100 as we have set the vector size to 100"
      ],
      "metadata": {
        "colab": {
          "base_uri": "https://localhost:8080/"
        },
        "id": "RiqxfBHeGaXG",
        "outputId": "15b7a062-7144-4a12-b859-2da0f6221106"
      },
      "execution_count": null,
      "outputs": [
        {
          "output_type": "stream",
          "name": "stdout",
          "text": [
            "Vector for 'sun': [-0.00514956 -0.00663697 -0.00776329  0.00832763 -0.00194189 -0.00688898\n",
            " -0.00414454  0.00522911 -0.00290126 -0.00375969  0.00160434 -0.00281795\n",
            " -0.00155406  0.00109974 -0.00294546  0.00851548  0.0039038  -0.00994418\n",
            "  0.0062441  -0.00684502  0.00078861  0.00444235 -0.00510931 -0.00214907\n",
            "  0.00810276 -0.00423996 -0.00765483  0.0092675  -0.00219193 -0.00470229\n",
            "  0.00857768  0.00424745  0.00434451  0.00921321 -0.00846767  0.00530375\n",
            "  0.00204625  0.00417129  0.00169996  0.00439536  0.00448502  0.00606902\n",
            " -0.00320323 -0.00455687 -0.00038367  0.00251318 -0.00329486  0.00601081\n",
            "  0.00416343  0.0077623   0.0025865   0.008093   -0.00143192  0.00805847\n",
            "  0.00374141 -0.00808019 -0.00391064 -0.00248113  0.00485426 -0.00085269\n",
            " -0.00284021  0.00782914  0.00933288 -0.00161578 -0.00521218 -0.00462599\n",
            " -0.00484513 -0.0095543   0.0013252  -0.00416404  0.00251883  0.00562667\n",
            " -0.0040151  -0.00957335  0.00159722 -0.00670597  0.00250752 -0.00378288\n",
            "  0.00705199  0.00060335  0.00354907 -0.00273987 -0.00178492  0.00767837\n",
            "  0.00137725 -0.00585591 -0.00781779  0.00124722  0.00650234  0.00558185\n",
            " -0.00894158  0.00859883  0.00406314  0.00745557  0.00978481 -0.00725888\n",
            " -0.00901655  0.0058537   0.00941043  0.00347436]\n"
          ]
        }
      ]
    },
    {
      "cell_type": "code",
      "source": [
        "# Find most similar words to 'sun'\n",
        "similar_words = word2vec_model.wv.most_similar('sun')#This finds words that are most similar to exist based on the cosine similarity of their vectors. Cosine similarity measures the angle between two vectors, which indicates how similar their meanings are.\n",
        "print(\"Most similar words to 'sun':\", similar_words)"
      ],
      "metadata": {
        "colab": {
          "base_uri": "https://localhost:8080/"
        },
        "id": "AoB3hTeUGr8z",
        "outputId": "eacc339d-ecf8-4d95-ad7f-7513f492bab5"
      },
      "execution_count": null,
      "outputs": [
        {
          "output_type": "stream",
          "name": "stdout",
          "text": [
            "Most similar words to 'sun': [('moment', 0.24744553864002228), ('i', 0.21630772948265076), ('wouldn', 0.2149062305688858), ('myself', 0.2049027532339096), ('you', 0.1617203950881958), ('believe', 0.13573704659938812), ('sprung', 0.12674617767333984), ('full', 0.10346049070358276), ('within', 0.10316178947687149), ('whole', 0.09007631242275238)]\n"
          ]
        }
      ]
    },
    {
      "cell_type": "markdown",
      "source": [
        "#Training the Word2Vec model with Skip-Gram"
      ],
      "metadata": {
        "id": "YIGC5uunKCOY"
      }
    },
    {
      "cell_type": "code",
      "source": [
        "# Train the Word2Vec model\n",
        "# Initialize and train the Word2Vec model with CBOW\n",
        "# Parameters:\n",
        "# - sg: 1 means skip-gram, 0 means CBOW (Continuous Bag of Words)\n",
        "# - vector_size: dimension of the word vectors\n",
        "# - window: max distance between current and predicted word\n",
        "# - min_count: ignore words that appear less than this\n",
        "word2vec_model = Word2Vec(sentences, vector_size=100, window=5, min_count=1, sg=1)"
      ],
      "metadata": {
        "id": "K1Pn7i3xKY2u"
      },
      "execution_count": null,
      "outputs": []
    },
    {
      "cell_type": "code",
      "source": [
        "# View the vocabulary learned by the model\n",
        "vocabulary = list(word2vec_model.wv.index_to_key)#This returns the vocabulary that the model has learned. It's the list of unique words that were trained.\n",
        "print(\"Vocabulary:\", vocabulary)"
      ],
      "metadata": {
        "colab": {
          "base_uri": "https://localhost:8080/"
        },
        "id": "u8IExctAK0ut",
        "outputId": "f72e3d81-f81a-4b1f-b709-e2e04dbe0765"
      },
      "execution_count": null,
      "outputs": [
        {
          "output_type": "stream",
          "name": "stdout",
          "text": [
            "Vocabulary: ['i', 'to', 'and', 'in', 'it', 'there', 'of', 'is', 'the', 'sun', 'afraid', 'life', 'that', 'a', 'exist', 'now', 'not', 'me', 'am', 'what', 'if', 'suffering', 's', 'see', 't', 'even', 'on', 'how', 'sprung', 'full', 'underground', 'these', 'within', 'he', 'began', 'up', 'consciousness', 'has', 'alexey', 'again', 'existence', 'for', 'thirst', 'you', 'wouldn', 'live', 'believe', 'peeling', 'want', 'knowing', 'whole', 'rack', 'every', 'moment', 'thousands', 'agonies', 'm', 'tormented', 'but', 'repeat', 'though', 'sit', 'alone', 'pillar', 'don', 'know', 'myself', 'say', 'were', 'strength', 'beyond', 'reckoning', 'was', 'seem', 'have', 'such', 'think', 'able', 'could', 'stand', 'anything', 'any', 'only', 'be', 'yes']\n"
          ]
        }
      ]
    },
    {
      "cell_type": "code",
      "source": [
        "# Access the word vector for 'sun'\n",
        "vector_sun = word2vec_model.wv['sun']\n",
        "print(\"Vector for 'sun':\", vector_sun) # this will return a vector of size100 as we have set the vector size to 100"
      ],
      "metadata": {
        "colab": {
          "base_uri": "https://localhost:8080/"
        },
        "id": "6i6K-fxALBzk",
        "outputId": "a427a5a7-a108-4e78-b621-f78ded91425c"
      },
      "execution_count": null,
      "outputs": [
        {
          "output_type": "stream",
          "name": "stdout",
          "text": [
            "Vector for 'sun': [-0.00520455 -0.00637987 -0.00763983  0.00843595 -0.0016899  -0.00715471\n",
            " -0.00415909  0.00574891 -0.00329087 -0.00373107  0.00144536 -0.0031673\n",
            " -0.00140255  0.00127586 -0.00264405  0.0083717   0.00395956 -0.00983348\n",
            "  0.00607969 -0.0073185   0.00088556  0.00461727 -0.00509222 -0.00246249\n",
            "  0.00815013 -0.00420783 -0.00781928  0.00945297 -0.00236406 -0.00453961\n",
            "  0.00872599  0.00399089  0.00444608  0.00879537 -0.00858437  0.00559542\n",
            "  0.00227312  0.00417642  0.00170689  0.00408233  0.00447374  0.00595557\n",
            " -0.00331933 -0.00433696 -0.00027384  0.00246057 -0.00355093  0.00589643\n",
            "  0.00420023  0.0076653   0.00281316  0.00794142 -0.00164253  0.00799926\n",
            "  0.00367252 -0.00825751 -0.00370419 -0.00260765  0.00472477 -0.00079887\n",
            " -0.00299484  0.00786267  0.00937909 -0.00161383 -0.00546813 -0.0041865\n",
            " -0.00474012 -0.00922934  0.00098758 -0.00377191  0.00236979  0.00582012\n",
            " -0.00381391 -0.00943814  0.00186523 -0.00665264  0.00260426 -0.00373122\n",
            "  0.00690704  0.00039028  0.00337623 -0.00271953 -0.00210181  0.00785131\n",
            "  0.00105712 -0.00591475 -0.00775496  0.00124708  0.00683567  0.00589879\n",
            " -0.00865532  0.0087335   0.00408534  0.00724841  0.01011749 -0.00701178\n",
            " -0.00882261  0.00596797  0.00960653  0.00326511]\n"
          ]
        }
      ]
    },
    {
      "cell_type": "code",
      "source": [
        "# Find most similar words to 'sun'\n",
        "similar_words = word2vec_model.wv.most_similar('sun')#This finds words that are most similar to exist based on the cosine similarity of their vectors. Cosine similarity measures the angle between two vectors, which indicates how similar their meanings are.\n",
        "print(\"Most similar words to 'sun':\", similar_words)"
      ],
      "metadata": {
        "colab": {
          "base_uri": "https://localhost:8080/"
        },
        "id": "XyLuhWHKLNRb",
        "outputId": "588b8c27-7305-47f4-da03-d61b85d890d9"
      },
      "execution_count": null,
      "outputs": [
        {
          "output_type": "stream",
          "name": "stdout",
          "text": [
            "Most similar words to 'sun': [('moment', 0.24898438155651093), ('i', 0.21651345491409302), ('wouldn', 0.2154027223587036), ('myself', 0.20882870256900787), ('you', 0.16200995445251465), ('believe', 0.13834194839000702), ('sprung', 0.12489879876375198), ('full', 0.10797854512929916), ('within', 0.10740732401609421), ('whole', 0.09157852083444595)]\n"
          ]
        }
      ]
    },
    {
      "cell_type": "markdown",
      "source": [
        "**Inference from hypertuning the model with both CBOW and Skip-Gram**\n",
        "\n",
        "As seen the model gives same o/p when trained with Either of the methods CBOW or Skip-Gram\n"
      ],
      "metadata": {
        "id": "j5v6wi5cLdrg"
      }
    },
    {
      "cell_type": "markdown",
      "source": [
        "\n",
        "#Choice between CBOW and Skipgram while training the Word2Vec model\n",
        "\n"
      ],
      "metadata": {
        "id": "YwWXlhG4OcvQ"
      }
    },
    {
      "cell_type": "markdown",
      "source": [
        "| Criterion                | **Skip-Gram** (sg=1)                  | **CBOW** (sg=0)                           |\n",
        "|--------------------------|---------------------------------------|-------------------------------------------|\n",
        "| **Dataset Size**          | Small datasets                        | Large datasets                            |\n",
        "| **Rare Words**            | Performs well with rare/infrequent words | Poor at capturing rare word relationships |\n",
        "| **Frequent Words**        | Performs adequately                   | Better performance with frequent words    |\n",
        "| **Training Speed**        | Slower                                | Faster                                    |\n",
        "| **Contextual Sensitivity**| Captures subtle nuances of context    | Averages context, loses nuances           |\n",
        "| **Task Type**             | Semantically rich tasks (word similarity, analogies) | Fast, large-scale word representations    |\n",
        "\n",
        "\n",
        "Skip-Gram is better for learning fine-grained relationships, especially for rare words, but it is slower.\n",
        "CBOW is faster and works well with frequent words, making it suitable for large datasets where speed is important.\n",
        "In most applications, if you have a large corpus and your task doesn’t depend on rare words, CBOW is preferred due to its efficiency. If you are focusing on word similarity or tasks that rely on understanding the subtleties between less frequent words, Skip-Gram might be a better choice."
      ],
      "metadata": {
        "id": "31mH90bNfhxl"
      }
    },
    {
      "cell_type": "markdown",
      "source": [
        "# Word2Vec Code multiple sentences considered as different documents as input text\n"
      ],
      "metadata": {
        "id": "dqQXn6bPYIWR"
      }
    },
    {
      "cell_type": "code",
      "source": [
        "from gensim.models import Word2Vec\n",
        "from nltk.tokenize import word_tokenize\n",
        "import nltk"
      ],
      "metadata": {
        "id": "NU9k-kDgQUDP"
      },
      "execution_count": null,
      "outputs": []
    },
    {
      "cell_type": "code",
      "source": [
        "#Input multiple documents (sentences, paragraphs, or larger text chunks)\n",
        "documents = [\"”Yes, life is full, there is life even underground,” he began again.\" ,\n",
        "\"“You wouldn’t believe, Alexey, how I want to live now, what a thirst for existence and consciousness has sprung up in me within these peeling walls…\",\n",
        "\" And what is suffering? I am not afraid of it, even if it were beyond reckoning.\",\n",
        "\" I am not afraid of it now.\",\n",
        "\" I was afraid of it before… And I seem to have such strength in me now, that I think I could stand anything, any suffering, only to be able to say and to repeat to myself every moment, ‘I exist.’\",\n",
        "\"In thousands of agonies—I exist.\",\n",
        "\" I’m tormented on the rack — but I exist! Though I sit alone on a pillar — I exist! I see the sun, and if I don’t see the sun, I know it’s there. And there’s a whole life in that, in knowing that the sun is there.\"\n",
        "]"
      ],
      "metadata": {
        "id": "E2FPE0GZQcUP"
      },
      "execution_count": null,
      "outputs": []
    },
    {
      "cell_type": "code",
      "source": [
        "#Preprocessing the text (tokenization)\n",
        "nltk.download('punkt')  # Download the tokenizer models\n",
        "tokenized_docs = [word_tokenize(doc.lower()) for doc in documents]\n",
        "tokenized_docs\n"
      ],
      "metadata": {
        "colab": {
          "base_uri": "https://localhost:8080/"
        },
        "collapsed": true,
        "id": "cq1NVoSpfoeH",
        "outputId": "fcdf5e12-6ea9-4b00-d2e7-6c841b93f71a"
      },
      "execution_count": null,
      "outputs": [
        {
          "output_type": "stream",
          "name": "stderr",
          "text": [
            "[nltk_data] Downloading package punkt to /root/nltk_data...\n",
            "[nltk_data]   Package punkt is already up-to-date!\n"
          ]
        },
        {
          "output_type": "execute_result",
          "data": {
            "text/plain": [
              "[['”',\n",
              "  'yes',\n",
              "  ',',\n",
              "  'life',\n",
              "  'is',\n",
              "  'full',\n",
              "  ',',\n",
              "  'there',\n",
              "  'is',\n",
              "  'life',\n",
              "  'even',\n",
              "  'underground',\n",
              "  ',',\n",
              "  '”',\n",
              "  'he',\n",
              "  'began',\n",
              "  'again',\n",
              "  '.'],\n",
              " ['“',\n",
              "  'you',\n",
              "  'wouldn',\n",
              "  '’',\n",
              "  't',\n",
              "  'believe',\n",
              "  ',',\n",
              "  'alexey',\n",
              "  ',',\n",
              "  'how',\n",
              "  'i',\n",
              "  'want',\n",
              "  'to',\n",
              "  'live',\n",
              "  'now',\n",
              "  ',',\n",
              "  'what',\n",
              "  'a',\n",
              "  'thirst',\n",
              "  'for',\n",
              "  'existence',\n",
              "  'and',\n",
              "  'consciousness',\n",
              "  'has',\n",
              "  'sprung',\n",
              "  'up',\n",
              "  'in',\n",
              "  'me',\n",
              "  'within',\n",
              "  'these',\n",
              "  'peeling',\n",
              "  'walls…'],\n",
              " ['and',\n",
              "  'what',\n",
              "  'is',\n",
              "  'suffering',\n",
              "  '?',\n",
              "  'i',\n",
              "  'am',\n",
              "  'not',\n",
              "  'afraid',\n",
              "  'of',\n",
              "  'it',\n",
              "  ',',\n",
              "  'even',\n",
              "  'if',\n",
              "  'it',\n",
              "  'were',\n",
              "  'beyond',\n",
              "  'reckoning',\n",
              "  '.'],\n",
              " ['i', 'am', 'not', 'afraid', 'of', 'it', 'now', '.'],\n",
              " ['i',\n",
              "  'was',\n",
              "  'afraid',\n",
              "  'of',\n",
              "  'it',\n",
              "  'before…',\n",
              "  'and',\n",
              "  'i',\n",
              "  'seem',\n",
              "  'to',\n",
              "  'have',\n",
              "  'such',\n",
              "  'strength',\n",
              "  'in',\n",
              "  'me',\n",
              "  'now',\n",
              "  ',',\n",
              "  'that',\n",
              "  'i',\n",
              "  'think',\n",
              "  'i',\n",
              "  'could',\n",
              "  'stand',\n",
              "  'anything',\n",
              "  ',',\n",
              "  'any',\n",
              "  'suffering',\n",
              "  ',',\n",
              "  'only',\n",
              "  'to',\n",
              "  'be',\n",
              "  'able',\n",
              "  'to',\n",
              "  'say',\n",
              "  'and',\n",
              "  'to',\n",
              "  'repeat',\n",
              "  'to',\n",
              "  'myself',\n",
              "  'every',\n",
              "  'moment',\n",
              "  ',',\n",
              "  '‘',\n",
              "  'i',\n",
              "  'exist',\n",
              "  '.',\n",
              "  '’'],\n",
              " ['in', 'thousands', 'of', 'agonies—i', 'exist', '.'],\n",
              " ['i',\n",
              "  '’',\n",
              "  'm',\n",
              "  'tormented',\n",
              "  'on',\n",
              "  'the',\n",
              "  'rack',\n",
              "  '—',\n",
              "  'but',\n",
              "  'i',\n",
              "  'exist',\n",
              "  '!',\n",
              "  'though',\n",
              "  'i',\n",
              "  'sit',\n",
              "  'alone',\n",
              "  'on',\n",
              "  'a',\n",
              "  'pillar',\n",
              "  '—',\n",
              "  'i',\n",
              "  'exist',\n",
              "  '!',\n",
              "  'i',\n",
              "  'see',\n",
              "  'the',\n",
              "  'sun',\n",
              "  ',',\n",
              "  'and',\n",
              "  'if',\n",
              "  'i',\n",
              "  'don',\n",
              "  '’',\n",
              "  't',\n",
              "  'see',\n",
              "  'the',\n",
              "  'sun',\n",
              "  ',',\n",
              "  'i',\n",
              "  'know',\n",
              "  'it',\n",
              "  '’',\n",
              "  's',\n",
              "  'there',\n",
              "  '.',\n",
              "  'and',\n",
              "  'there',\n",
              "  '’',\n",
              "  's',\n",
              "  'a',\n",
              "  'whole',\n",
              "  'life',\n",
              "  'in',\n",
              "  'that',\n",
              "  ',',\n",
              "  'in',\n",
              "  'knowing',\n",
              "  'that',\n",
              "  'the',\n",
              "  'sun',\n",
              "  'is',\n",
              "  'there',\n",
              "  '.']]"
            ]
          },
          "metadata": {},
          "execution_count": 56
        }
      ]
    },
    {
      "cell_type": "code",
      "source": [
        "Step 3: Initialize and train the Word2Vec model with CBOW\n",
        "# Parameters:\n",
        "# - sg: 1 means skip-gram, 0 means CBOW (Continuous Bag of Words)\n",
        "# - vector_size: dimension of the word vectors\n",
        "# - window: max distance between current and predicted word\n",
        "# - min_count: ignore words that appear less than this\n",
        "word2vec_model = Word2Vec(sentences=tokenized_docs, vector_size=100, window=5, min_count=1, sg=0)"
      ],
      "metadata": {
        "id": "SCEd2PCsgM2V"
      },
      "execution_count": null,
      "outputs": []
    },
    {
      "cell_type": "code",
      "source": [
        "# Initialize and train the Word2Vec model with CBOW\n",
        "# Parameters:\n",
        "# - sg: 1 means skip-gram, 0 means CBOW (Continuous Bag of Words)\n",
        "# - vector_size: dimension of the word vectors\n",
        "# - window: max distance between current and predicted word\n",
        "# - min_count: ignore words that appear less than this#\n",
        "\n",
        "# Skip-Gram (sg=1) Model\n",
        "skipgram_model = Word2Vec(sentences=tokenized_docs, vector_size=100, window=5, min_count=1, sg=1)\n",
        "\n",
        "# CBOW (sg=0) Model\n",
        "cbow_model = Word2Vec(sentences=tokenized_docs, vector_size=100, window=5, min_count=1, sg=0)\n",
        "\n",
        "# Check results\n",
        "#print(\"Skip-Gram Embeddings for 'life':\", skipgram_model.wv['life'])\n",
        "#print(\"CBOW Embeddings for 'life':\", cbow_model.wv['life'])\n",
        "\n",
        "# Find similar words for 'exist'\n",
        "#print(\"Similar words to 'exist' in Skip-Gram:\", skipgram_model.wv.most_similar('exist'))\n",
        "#print(\"Similar words to 'exist' in CBOW:\", cbow_model.wv.most_similar('exist'))"
      ],
      "metadata": {
        "id": "3goGTXSSg9CK"
      },
      "execution_count": null,
      "outputs": []
    },
    {
      "cell_type": "code",
      "source": [
        "#Get word vectors for individual words in each model\n",
        "word_vectors_skipgram_model = skipgram_model.wv\n",
        "word_vectors_cbow_model = cbow_model.wv\n",
        "word_vectors_skipgram_model\n",
        "word_vectors_cbow_model"
      ],
      "metadata": {
        "id": "zv0MzKcdeWxl",
        "colab": {
          "base_uri": "https://localhost:8080/"
        },
        "outputId": "a2692b56-9ba3-4fe4-97a5-5d2e4f4fe44d"
      },
      "execution_count": null,
      "outputs": [
        {
          "output_type": "execute_result",
          "data": {
            "text/plain": [
              "<gensim.models.keyedvectors.KeyedVectors at 0x7991ce965ea0>"
            ]
          },
          "metadata": {},
          "execution_count": 58
        }
      ]
    },
    {
      "cell_type": "code",
      "source": [
        "# Display the vector for a specific word\n",
        "word = 'sun'\n",
        "print(f\"Vector for '{word}'in skipgram model:\\n\", word_vectors_skipgram_model[word])\n",
        "print(f\"Vector for '{word}'in cbow model:\\n\", word_vectors_cbow_model[word])"
      ],
      "metadata": {
        "colab": {
          "base_uri": "https://localhost:8080/"
        },
        "id": "Xj5h-mUdkkGn",
        "outputId": "051b7f1d-bdef-4859-d023-224ed1715286"
      },
      "execution_count": null,
      "outputs": [
        {
          "output_type": "stream",
          "name": "stdout",
          "text": [
            "Vector for 'sun'in skipgram model:\n",
            " [ 0.0017432   0.00737266  0.00290765 -0.00703197  0.00826969 -0.00636775\n",
            "  0.00926322  0.00379436 -0.00401339 -0.00519238 -0.00448485 -0.0067465\n",
            "  0.00919848 -0.00270272  0.00800669 -0.00992952  0.00224579 -0.00150524\n",
            "  0.00748001 -0.00993179  0.00774388 -0.00487129 -0.00581546 -0.00566004\n",
            " -0.00363074 -0.00339208 -0.00349538 -0.00722832  0.0005036  -0.00053074\n",
            " -0.00169811  0.00365008 -0.00736613 -0.00379353  0.0048722   0.00855916\n",
            " -0.00946889  0.00689376  0.00539554 -0.00412149  0.00876089 -0.00933049\n",
            "  0.00726034  0.00544849  0.00174009 -0.00544429 -0.00452819 -0.00351109\n",
            "  0.00213211  0.00175284  0.00767559  0.0097836   0.00904592 -0.00432314\n",
            "  0.0095159  -0.00064941  0.00514753  0.00257368 -0.00064726  0.00373127\n",
            " -0.00528486 -0.00573717 -0.00729708  0.0020299   0.00626538  0.00147915\n",
            "  0.00132788  0.00367488  0.0074318  -0.00745394  0.00200503 -0.00723695\n",
            "  0.00402707  0.0096477   0.00782613  0.0064088   0.00805287  0.0065635\n",
            "  0.00649746  0.0083546  -0.00554991  0.00928198  0.00458338 -0.00164803\n",
            "  0.00835612  0.00503658  0.01040648  0.00308189  0.01016436  0.00136089\n",
            "  0.00971423  0.00377366  0.0066342  -0.0034768   0.00759163  0.00740707\n",
            " -0.00202359 -0.00198992  0.00352549 -0.00704111]\n",
            "Vector for 'sun'in cbow model:\n",
            " [ 0.00178715  0.00713179  0.00293755 -0.00703423  0.00778927 -0.0060842\n",
            "  0.00903451  0.00312421 -0.00402855 -0.00475031 -0.00445829 -0.00624882\n",
            "  0.00934759 -0.00266     0.007809   -0.00970644  0.00214622 -0.00125271\n",
            "  0.00754617 -0.00922977  0.00750188 -0.00507224 -0.00597666 -0.00566295\n",
            " -0.00345248 -0.00340406 -0.00326315 -0.00748071  0.00068116 -0.00057838\n",
            " -0.00162782  0.00374596 -0.00755071 -0.00335682  0.00513197  0.00853533\n",
            " -0.00973818  0.00715938  0.00531526 -0.00394046  0.00861565 -0.00926447\n",
            "  0.00722482  0.00538016  0.00140587 -0.00523999 -0.00425866 -0.00338358\n",
            "  0.00173286  0.00158204  0.00742389  0.00993606  0.00887931 -0.00404039\n",
            "  0.00963593 -0.00063599  0.00492031  0.00248807 -0.00062215  0.00368715\n",
            " -0.00529304 -0.00576179 -0.00756991  0.00194426  0.00649914  0.00100854\n",
            "  0.00130438  0.00324738  0.00801947 -0.00761181  0.00216349 -0.00745348\n",
            "  0.0037585   0.0095526   0.00759248  0.00641238  0.00804055  0.00655883\n",
            "  0.00679662  0.00862366 -0.00505054  0.00921998  0.00499507 -0.00202024\n",
            "  0.00846769  0.00505117  0.00976826  0.00289916  0.00990277  0.00122293\n",
            "  0.0092798   0.00359792  0.00658594 -0.00359898  0.00692905  0.00724749\n",
            " -0.00211128 -0.00187013  0.00357067 -0.00702574]\n"
          ]
        }
      ]
    },
    {
      "cell_type": "code",
      "source": [
        "# Step 5: Find similar words in skipgram model\n",
        "similar_words_skipgram_model = word_vectors_skipgram_model.most_similar('sun', topn=5)\n",
        "print(f\"\\nWords most similar to '{word}':\")\n",
        "for similar_word, similarity in similar_words:\n",
        "    print(f\"{similar_word}: {similarity:.4f}\")\n",
        "\n",
        "similar_words_cbow_model = word_vectors_cbow_model.most_similar('sun', topn=5)\n",
        "print(f\"\\nWords most similar to '{word}':\")\n",
        "for similar_word, similarity in similar_words:\n",
        "    print(f\"{similar_word}: {similarity:.4f}\")"
      ],
      "metadata": {
        "colab": {
          "base_uri": "https://localhost:8080/"
        },
        "id": "7OWo6H0KlRdP",
        "outputId": "0ce444e5-c6c1-4768-8e86-1b16ed56bab0"
      },
      "execution_count": null,
      "outputs": [
        {
          "output_type": "stream",
          "name": "stdout",
          "text": [
            "\n",
            "Words most similar to 'sun':\n",
            "moment: 0.2490\n",
            "i: 0.2165\n",
            "wouldn: 0.2154\n",
            "myself: 0.2088\n",
            "you: 0.1620\n",
            "believe: 0.1383\n",
            "sprung: 0.1249\n",
            "full: 0.1080\n",
            "within: 0.1074\n",
            "whole: 0.0916\n",
            "\n",
            "Words most similar to 'sun':\n",
            "moment: 0.2490\n",
            "i: 0.2165\n",
            "wouldn: 0.2154\n",
            "myself: 0.2088\n",
            "you: 0.1620\n",
            "believe: 0.1383\n",
            "sprung: 0.1249\n",
            "full: 0.1080\n",
            "within: 0.1074\n",
            "whole: 0.0916\n"
          ]
        }
      ]
    },
    {
      "cell_type": "markdown",
      "source": [
        "#**Inference**"
      ],
      "metadata": {
        "id": "hkR3Qdlumqqk"
      }
    },
    {
      "cell_type": "markdown",
      "source": [
        "Analysis and interpretation\n",
        "\n",
        "The inference is that we are getting similar o/p for the model whem tuned with both skipgram and cbow embedding methods..."
      ],
      "metadata": {
        "id": "gJsSvj90cN1K"
      }
    },
    {
      "cell_type": "markdown",
      "source": [
        "# Appling Word2Vec to get document similarity using Cosine similarity and heatmap visualisation\n"
      ],
      "metadata": {
        "id": "DsvjR5I7poN5"
      }
    },
    {
      "cell_type": "code",
      "source": [
        "from gensim.models import Word2Vec\n",
        "from sklearn.metrics.pairwise import cosine_similarity\n",
        "import numpy as np\n",
        "import re\n",
        "from nltk.tokenize import word_tokenize\n",
        "from nltk.corpus import stopwords\n",
        "import nltk\n",
        "\n",
        "nltk.download('punkt')\n",
        "nltk.download('stopwords')"
      ],
      "metadata": {
        "colab": {
          "base_uri": "https://localhost:8080/"
        },
        "id": "Ft6vjLgOp8RE",
        "outputId": "771f31a4-604a-4b94-8fd8-74da8d839c00"
      },
      "execution_count": null,
      "outputs": [
        {
          "output_type": "stream",
          "name": "stderr",
          "text": [
            "[nltk_data] Downloading package punkt to /root/nltk_data...\n",
            "[nltk_data]   Package punkt is already up-to-date!\n",
            "[nltk_data] Downloading package stopwords to /root/nltk_data...\n",
            "[nltk_data]   Package stopwords is already up-to-date!\n"
          ]
        },
        {
          "output_type": "execute_result",
          "data": {
            "text/plain": [
              "True"
            ]
          },
          "metadata": {},
          "execution_count": 64
        }
      ]
    },
    {
      "cell_type": "code",
      "source": [
        "# input documents\n",
        "documents = [\n",
        "    \"Yes, life is full, there is life even underground.\",\n",
        "    \"You wouldn’t believe, Alexey, how I want to live now.\",\n",
        "    \"What a thirst for existence and consciousness has sprung up in me within these peeling walls.\",\n",
        "    \"And what is suffering? I am not afraid of it, even if it were beyond reckoning.\",\n",
        "    \"I was afraid of it before. And I seem to have such strength in me now.\",\n",
        "    \"I think I could stand anything, any suffering, only to be able to say to myself, ‘I exist.’\",\n",
        "    \"In thousands of agonies — I exist. I’m tormented on the rack — but I exist!\",\n",
        "    \"Though I sit alone on a pillar — I exist! I see the sun, and if I don’t see the sun, I know it’s there.\"\n",
        "]"
      ],
      "metadata": {
        "id": "Ah3fSS6rqJS9"
      },
      "execution_count": null,
      "outputs": []
    },
    {
      "cell_type": "code",
      "source": [
        "stop_words = set(stopwords.words('english'))\n",
        "\n",
        "def preprocess(text):\n",
        "    # Remove punctuation\n",
        "    text = re.sub(r'[^\\w\\s]', '', text)\n",
        "    # Tokenize words\n",
        "    tokens = word_tokenize(text.lower())\n",
        "    # Remove stopwords\n",
        "    tokens = [word for word in tokens if word not in stop_words]\n",
        "    return tokens\n"
      ],
      "metadata": {
        "id": "Z6UPV5PCqPck"
      },
      "execution_count": null,
      "outputs": []
    },
    {
      "cell_type": "code",
      "source": [
        "# Preprocess all documents\n",
        "processed_docs = [preprocess(doc) for doc in documents]\n",
        "processed_docs"
      ],
      "metadata": {
        "colab": {
          "base_uri": "https://localhost:8080/"
        },
        "id": "gMnUfvwrqwc-",
        "outputId": "efead7f8-3f17-4e99-b23c-423dfff55ca7"
      },
      "execution_count": null,
      "outputs": [
        {
          "output_type": "execute_result",
          "data": {
            "text/plain": [
              "[['yes', 'life', 'full', 'life', 'even', 'underground'],\n",
              " ['wouldnt', 'believe', 'alexey', 'want', 'live'],\n",
              " ['thirst',\n",
              "  'existence',\n",
              "  'consciousness',\n",
              "  'sprung',\n",
              "  'within',\n",
              "  'peeling',\n",
              "  'walls'],\n",
              " ['suffering', 'afraid', 'even', 'beyond', 'reckoning'],\n",
              " ['afraid', 'seem', 'strength'],\n",
              " ['think', 'could', 'stand', 'anything', 'suffering', 'able', 'say', 'exist'],\n",
              " ['thousands', 'agonies', 'exist', 'im', 'tormented', 'rack', 'exist'],\n",
              " ['though',\n",
              "  'sit',\n",
              "  'alone',\n",
              "  'pillar',\n",
              "  'exist',\n",
              "  'see',\n",
              "  'sun',\n",
              "  'dont',\n",
              "  'see',\n",
              "  'sun',\n",
              "  'know']]"
            ]
          },
          "metadata": {},
          "execution_count": 68
        }
      ]
    },
    {
      "cell_type": "code",
      "source": [
        "# Train the Word2Vec model\n",
        "word2vec_model = Word2Vec(sentences=processed_docs, vector_size=100, window=5, min_count=1, sg=0)"
      ],
      "metadata": {
        "id": "varLxizgrCz5"
      },
      "execution_count": null,
      "outputs": []
    },
    {
      "cell_type": "code",
      "source": [
        "def document_vector(doc, model):\n",
        "    # Remove words that are not in the Word2Vec vocabulary\n",
        "    doc = [word for word in doc if word in model.wv.index_to_key]\n",
        "    # If none of the words are in the vocabulary, return a zero vector\n",
        "    if len(doc) == 0:\n",
        "        return np.zeros(model.vector_size)\n",
        "    # Compute the mean of the word vectors\n",
        "    return np.mean([model.wv[word] for word in doc], axis=0)\n",
        "\n",
        "# Get document vectors for all documents\n",
        "doc_vectors = np.array([document_vector(doc, word2vec_model) for doc in processed_docs])\n",
        "doc_vectors"
      ],
      "metadata": {
        "colab": {
          "base_uri": "https://localhost:8080/"
        },
        "id": "O6OSqgm7rP5q",
        "outputId": "80adc66c-90a8-4842-9c20-4b675a36ab51"
      },
      "execution_count": null,
      "outputs": [
        {
          "output_type": "execute_result",
          "data": {
            "text/plain": [
              "array([[ 4.80278715e-04,  1.65617515e-04, -2.86117662e-03,\n",
              "         9.79045522e-04,  1.36926712e-03,  3.02800443e-03,\n",
              "         1.14600931e-03,  4.23242134e-04,  8.90237920e-04,\n",
              "         4.32657031e-03,  1.83167553e-03,  3.85311083e-03,\n",
              "        -1.71639177e-03,  1.30688248e-03, -3.98457004e-03,\n",
              "        -3.62872705e-03,  1.61425909e-03,  3.46634327e-03,\n",
              "         3.86339234e-04, -1.64905190e-03, -6.04537083e-04,\n",
              "        -4.77104029e-03,  3.15577560e-03,  3.31524317e-03,\n",
              "        -3.96163290e-04, -4.17906958e-05,  1.01567607e-03,\n",
              "         5.62687404e-04, -2.44865310e-03, -1.56753266e-03,\n",
              "         5.82740130e-03, -9.96351824e-04,  1.97987910e-03,\n",
              "        -2.93176994e-03,  3.34257097e-03, -3.85686569e-03,\n",
              "        -2.90141068e-03, -1.16867526e-03, -2.43436894e-04,\n",
              "        -2.34391470e-03,  2.41398695e-03, -3.54087725e-03,\n",
              "        -1.63280254e-03,  1.88270200e-03,  9.30357084e-04,\n",
              "        -3.30941565e-03, -2.54176068e-03, -1.44769019e-03,\n",
              "        -3.99024779e-04, -1.03678007e-03,  3.43178702e-03,\n",
              "         6.83814811e-04,  7.13309972e-04,  5.06967364e-04,\n",
              "        -5.08438656e-03, -2.91226455e-03, -1.49420986e-03,\n",
              "        -4.86772601e-03, -3.32076405e-03, -4.83337929e-03,\n",
              "         1.72925869e-03, -8.22387578e-04,  2.16777413e-03,\n",
              "         5.02919313e-04, -2.55696476e-03,  3.46525083e-03,\n",
              "         2.22447165e-03,  2.47121532e-03, -3.78188095e-03,\n",
              "         1.69077364e-03, -2.25175940e-03,  4.60182037e-03,\n",
              "        -2.89057638e-03,  1.05579430e-03,  4.50814655e-03,\n",
              "         3.52897216e-04,  7.67116377e-04,  5.20448806e-03,\n",
              "         1.44587888e-03, -1.89407216e-03, -5.11652371e-03,\n",
              "        -2.94109923e-03, -6.14147459e-04, -8.47742194e-05,\n",
              "        -5.48236631e-03, -2.16736109e-03,  5.76306181e-03,\n",
              "        -2.42359028e-03, -6.66786870e-03, -7.86641438e-04,\n",
              "        -4.50082705e-04, -2.99595320e-03,  7.56676483e-04,\n",
              "        -4.40260541e-04,  7.25102436e-04, -4.57171025e-03,\n",
              "         2.35287659e-03,  1.42661796e-03, -3.61910649e-03,\n",
              "         1.04794721e-03],\n",
              "       [ 1.94757304e-03,  2.24208203e-03,  5.10284211e-04,\n",
              "         3.79827293e-03,  1.82305928e-04, -2.96509778e-03,\n",
              "         2.73981341e-03,  2.64893472e-03, -3.41922860e-03,\n",
              "        -3.07012605e-03, -3.64721636e-03, -4.58107470e-03,\n",
              "         4.18503350e-03,  3.58494301e-03,  3.72160901e-03,\n",
              "        -1.34584494e-03, -9.10620220e-05,  2.04799953e-03,\n",
              "         4.44897916e-03, -5.20841335e-04,  2.20299722e-03,\n",
              "         8.31464014e-04, -6.59071002e-03, -1.40374235e-03,\n",
              "        -9.10806120e-04,  1.39886118e-03, -4.95709199e-03,\n",
              "         1.14406808e-03,  3.97710968e-03, -9.60760284e-04,\n",
              "        -1.46560255e-03, -8.73782381e-04, -2.47813435e-03,\n",
              "         1.62664801e-05, -1.38628483e-03,  5.96197881e-03,\n",
              "         5.77006140e-04, -6.94323156e-04, -1.71029102e-03,\n",
              "         1.67517544e-04,  4.55100322e-03, -2.72976747e-03,\n",
              "         8.31878278e-04,  4.61491197e-03, -7.44834542e-04,\n",
              "         5.18342131e-04, -3.91023234e-03, -4.34442749e-03,\n",
              "         2.59395060e-03, -2.94692023e-03, -5.36448963e-04,\n",
              "        -2.11273646e-03, -2.85585586e-04,  1.14131055e-03,\n",
              "         3.38510191e-03,  6.44173473e-03,  1.87061110e-03,\n",
              "        -4.62792435e-04,  5.54195372e-03,  2.01196666e-03,\n",
              "        -2.61906208e-03, -2.03137659e-03, -9.32589173e-05,\n",
              "         2.11253087e-03,  3.09463637e-03,  3.03289294e-03,\n",
              "        -1.45862624e-03,  3.12949647e-03, -2.03098723e-04,\n",
              "         7.91142986e-04, -1.72199425e-03, -1.57613610e-03,\n",
              "         3.57076596e-03, -6.81425736e-04,  2.50479579e-03,\n",
              "         3.94004863e-03,  3.18215520e-04,  3.07683321e-03,\n",
              "        -5.90578245e-04, -1.75012363e-04, -6.55026129e-03,\n",
              "         1.94226485e-03,  2.37922510e-03,  7.22619705e-04,\n",
              "         2.93523865e-03,  2.39640893e-03,  1.89830142e-03,\n",
              "        -1.37456250e-03,  4.62623686e-03, -9.57348384e-04,\n",
              "         2.79916194e-03,  4.95997432e-04, -2.28188233e-03,\n",
              "         1.74613355e-03, -5.85337577e-04, -2.45459203e-04,\n",
              "        -1.68510989e-04,  2.45402684e-03,  3.99053935e-03,\n",
              "         3.60277179e-03],\n",
              "       [-1.63903998e-04,  1.24837656e-03,  2.32655299e-03,\n",
              "         1.35420880e-03, -9.70812107e-04, -2.32546171e-03,\n",
              "        -7.04129110e-04,  1.35249679e-03, -2.61974870e-03,\n",
              "        -3.58498120e-03,  9.83198057e-04, -1.48226297e-03,\n",
              "         2.78703606e-04, -3.01160826e-03,  2.88041565e-03,\n",
              "         1.38214638e-03,  1.43660454e-03, -2.00522342e-03,\n",
              "        -2.74422840e-04, -6.35157200e-03, -5.47930365e-04,\n",
              "         1.90563535e-03,  3.20899533e-03, -2.17980845e-03,\n",
              "        -6.80473517e-04,  2.37428024e-03, -5.62027330e-03,\n",
              "         1.57691818e-03,  3.30168492e-04,  2.14100373e-03,\n",
              "         1.81538446e-04,  3.46274988e-04,  3.88688641e-03,\n",
              "         2.21497728e-03, -5.52674173e-04,  1.17630036e-04,\n",
              "        -2.62766471e-03,  1.37445400e-03, -1.86668418e-03,\n",
              "        -1.48139463e-03, -4.41145588e-04,  1.19577639e-03,\n",
              "        -9.11769865e-04,  2.23399675e-03, -1.84702338e-03,\n",
              "        -4.56025777e-03,  3.68148409e-04, -3.63696781e-05,\n",
              "        -1.81889627e-04,  2.35004956e-03, -3.21028754e-04,\n",
              "        -8.04225856e-04,  1.40639168e-04, -2.49649864e-04,\n",
              "        -1.25847087e-04, -3.90868023e-04, -2.00538733e-03,\n",
              "         9.81271733e-04,  3.25446250e-03,  2.04666727e-03,\n",
              "        -1.87470706e-03, -1.42353980e-04,  4.38932655e-03,\n",
              "         2.26594717e-03, -3.53359687e-03,  1.77456741e-03,\n",
              "        -2.18915084e-04,  1.48392154e-03, -2.67106085e-03,\n",
              "        -1.14656461e-03,  6.39846548e-05,  3.82497325e-03,\n",
              "         2.19625086e-04,  9.81823192e-04,  3.42148094e-04,\n",
              "         2.11922009e-03,  9.41700768e-04, -2.84544262e-03,\n",
              "        -1.39089394e-03, -1.64506712e-03, -1.01052015e-03,\n",
              "         1.19496218e-03,  5.97935112e-04,  4.68916865e-03,\n",
              "         5.49991440e-04,  1.65980746e-04,  4.36623173e-04,\n",
              "         5.62941132e-04,  3.12754302e-03,  1.90885481e-03,\n",
              "         1.61454885e-03,  1.22992205e-03, -5.21570619e-04,\n",
              "         1.82009756e-03,  2.39287387e-03, -1.32268143e-03,\n",
              "         1.51124946e-03,  4.06209321e-04,  2.67437263e-03,\n",
              "         1.32810659e-04],\n",
              "       [-2.57750414e-03, -1.94925792e-03,  2.22387840e-03,\n",
              "        -1.90462230e-03, -1.10482238e-03, -2.78066704e-03,\n",
              "         3.51002952e-03,  4.57278267e-03, -3.16351652e-03,\n",
              "        -4.56643524e-03, -5.65985509e-04, -2.94407224e-03,\n",
              "        -4.51710168e-03,  3.35458526e-03, -3.51224234e-03,\n",
              "         2.37010699e-03,  4.26042301e-04,  3.44261574e-03,\n",
              "        -3.30211897e-03, -5.07097505e-03, -1.18698680e-03,\n",
              "        -2.22792878e-04,  4.21508914e-03,  1.78145000e-03,\n",
              "        -1.04812975e-03,  1.02568511e-03,  1.68776815e-03,\n",
              "        -5.63721266e-03, -6.01884734e-04,  5.39189845e-04,\n",
              "         7.04425294e-03,  2.48333436e-05, -5.13389241e-04,\n",
              "        -2.58312863e-03,  1.03211286e-03,  2.49311584e-03,\n",
              "         4.12629638e-03, -2.07628543e-03,  1.66326459e-03,\n",
              "        -1.87839381e-03,  4.18961141e-03, -6.20085280e-03,\n",
              "        -1.17893924e-03, -1.83714833e-03,  2.98055192e-03,\n",
              "         2.09100288e-03, -3.88595276e-04, -2.05175253e-03,\n",
              "         2.49575148e-03, -3.50147486e-04,  2.20651110e-03,\n",
              "        -5.05751604e-03,  4.68808692e-04,  3.91630642e-03,\n",
              "        -2.32222700e-03,  2.57196021e-03,  3.90387932e-03,\n",
              "        -2.23180489e-03, -2.94006150e-03, -3.96076575e-05,\n",
              "         2.55430047e-03,  4.89918515e-04,  2.40250467e-03,\n",
              "        -9.77147603e-04,  7.77343812e-04,  3.78263881e-03,\n",
              "        -3.04490095e-03, -1.99756585e-03, -6.83296937e-04,\n",
              "         1.39624416e-03,  7.90726408e-05,  1.07151899e-03,\n",
              "         3.25449486e-03,  3.30711599e-03,  1.54220476e-03,\n",
              "        -2.30615283e-03,  1.44414607e-05,  1.27526908e-03,\n",
              "         2.42327666e-03,  6.84407889e-04,  2.76625901e-03,\n",
              "        -3.14503582e-03, -2.11099209e-03, -2.94111716e-03,\n",
              "        -7.48003658e-04, -2.71777227e-03, -1.18781254e-03,\n",
              "        -1.46795320e-03, -9.25204076e-04,  1.68239611e-04,\n",
              "         3.08217015e-03,  8.20825808e-04, -1.21501835e-04,\n",
              "        -7.70599640e-04,  9.42456652e-04,  1.27212540e-03,\n",
              "         2.47487379e-03, -5.27458219e-03, -2.03959062e-03,\n",
              "        -3.67474655e-04],\n",
              "       [-5.88318845e-03,  2.22878228e-03,  3.69617972e-03,\n",
              "        -3.26709636e-03,  2.17225193e-03, -3.63938627e-03,\n",
              "        -2.86460947e-03,  1.92056096e-03,  6.44166488e-04,\n",
              "        -4.45326185e-03, -2.37201643e-03, -3.84521415e-03,\n",
              "         6.92474656e-04,  5.82560012e-03,  4.19303216e-03,\n",
              "         2.33831559e-03,  6.12461567e-03, -1.00313722e-04,\n",
              "        -1.57015704e-04, -2.89329421e-03,  2.64961529e-03,\n",
              "         8.40289649e-05,  1.28631887e-03, -8.14389810e-03,\n",
              "         1.79223774e-03,  2.73534306e-03,  4.27759551e-05,\n",
              "         2.58347113e-03, -2.84834619e-04,  4.82452888e-04,\n",
              "         6.49052160e-03, -2.67826632e-04, -5.45189669e-03,\n",
              "        -6.08622842e-03, -1.33444148e-03,  2.86062103e-04,\n",
              "         3.96958459e-03,  4.57882695e-03, -2.78279447e-04,\n",
              "         3.44588910e-03,  5.18645579e-03, -2.46343698e-04,\n",
              "         4.46793623e-04, -6.20089099e-03, -3.13757849e-03,\n",
              "        -2.62774178e-03,  1.75494840e-03, -1.67821685e-03,\n",
              "         7.49231142e-04,  2.47079064e-03,  5.20464778e-03,\n",
              "        -1.67254696e-03,  7.47078564e-04,  3.87677946e-03,\n",
              "        -4.07211063e-03,  3.32878623e-03,  7.90600572e-03,\n",
              "         4.09057224e-03, -1.80191954e-03,  2.70477985e-03,\n",
              "        -1.27552415e-03,  7.96567590e-04, -1.34281826e-03,\n",
              "         4.12144698e-04,  1.73472959e-04,  2.52586178e-04,\n",
              "         1.11168902e-03, -7.89901428e-03,  2.72779260e-03,\n",
              "         7.76814157e-03,  1.35367329e-03, -2.69713998e-03,\n",
              "        -3.42156825e-04,  2.74561904e-03,  2.89701694e-03,\n",
              "        -4.96684900e-03,  7.60719646e-04,  2.87303556e-04,\n",
              "        -1.88231541e-04, -1.83335319e-03, -1.24913116e-03,\n",
              "         3.23001551e-03, -7.68311031e-04, -2.35550595e-03,\n",
              "         4.08248510e-04, -1.67750521e-04, -5.41968411e-03,\n",
              "         2.97993887e-03, -3.81744839e-03,  2.30704085e-03,\n",
              "         4.74129757e-03, -2.49466696e-03,  3.74026509e-04,\n",
              "        -6.17844006e-03, -5.84327057e-03,  3.44455335e-03,\n",
              "         4.63447114e-03, -3.38587048e-03, -6.21357176e-04,\n",
              "         2.21478683e-03],\n",
              "       [-9.99142765e-04, -8.10402213e-04, -1.08092348e-03,\n",
              "        -2.30481406e-03, -5.36819175e-03, -5.38684195e-04,\n",
              "         1.61643524e-03, -1.50140678e-03, -3.89869732e-04,\n",
              "        -1.47374673e-03,  1.24951114e-03, -1.14289054e-03,\n",
              "        -4.34461841e-03, -2.04560522e-04, -1.48841785e-03,\n",
              "        -3.17106792e-03, -2.46782578e-03,  8.94440920e-04,\n",
              "         1.18763954e-03,  2.29518744e-03,  1.84789230e-03,\n",
              "         8.37298227e-04,  4.14204644e-03,  2.65556300e-04,\n",
              "         5.70587057e-04,  1.10559887e-03,  1.31428940e-03,\n",
              "        -1.05340499e-03, -2.25120154e-03,  1.43602840e-04,\n",
              "        -7.54945911e-04, -6.53670810e-04,  3.54491477e-03,\n",
              "        -4.09685029e-03,  6.45690889e-05,  1.89584005e-03,\n",
              "         4.10651090e-04,  1.65730179e-03, -2.89821671e-03,\n",
              "        -9.13557829e-04, -3.38296406e-03,  1.84010621e-03,\n",
              "        -1.47845759e-03, -1.68920786e-03,  9.61222278e-04,\n",
              "        -2.59658392e-03,  1.70001015e-03, -4.83642798e-05,\n",
              "         3.15427524e-03,  1.79670751e-03,  3.60250822e-04,\n",
              "         1.93270482e-03,  6.15493162e-04, -2.12379091e-05,\n",
              "         2.02430924e-03, -1.37443782e-03, -8.89136572e-05,\n",
              "        -6.54448348e-04, -3.06423125e-03, -3.78415547e-03,\n",
              "        -3.04620422e-04,  3.06732720e-04, -1.15884747e-03,\n",
              "        -2.08855886e-03, -6.38288853e-04,  1.06344570e-03,\n",
              "        -2.79018376e-03,  1.33210630e-03, -2.99063930e-03,\n",
              "         1.21585315e-03,  1.01736537e-03,  2.72750971e-03,\n",
              "         3.58815584e-03,  6.39192178e-04,  6.90409332e-04,\n",
              "         2.76508392e-03, -4.93156957e-04,  1.16769667e-03,\n",
              "        -5.36868814e-04,  1.53735979e-03, -2.39366665e-03,\n",
              "        -1.73722301e-03, -9.39166872e-04, -4.38545598e-04,\n",
              "         1.62110198e-04, -3.30036180e-03,  1.78903202e-03,\n",
              "         1.14459498e-03, -9.71119269e-04,  1.17809302e-03,\n",
              "         4.97909146e-04,  9.63320956e-04,  3.00164829e-04,\n",
              "        -1.50757923e-03,  2.39012879e-03,  3.19701107e-03,\n",
              "        -1.17890118e-03,  7.07625877e-05, -2.72023748e-03,\n",
              "        -1.74517138e-03],\n",
              "       [ 2.54216976e-03, -1.76419108e-03,  1.46227155e-03,\n",
              "         3.38575011e-03, -3.86569020e-03, -3.66429286e-03,\n",
              "         4.20356635e-04,  4.42550750e-03,  1.10942312e-03,\n",
              "        -2.64043012e-03,  2.47148215e-03,  1.07466138e-03,\n",
              "        -1.81516737e-03,  2.19646469e-03, -2.37159501e-03,\n",
              "        -5.21226437e-04,  1.10686955e-03, -1.98790198e-03,\n",
              "        -5.62799578e-05, -4.29117214e-03,  1.01326813e-03,\n",
              "         2.20128408e-04,  1.66353979e-03, -1.86161301e-03,\n",
              "         4.09252383e-03, -9.23305226e-04, -1.56395393e-03,\n",
              "         2.34255567e-03, -3.17021110e-03,  2.01995438e-03,\n",
              "        -4.84357268e-04, -1.69732340e-03,  4.05259291e-03,\n",
              "        -6.70234067e-03, -3.37055390e-04,  6.66058622e-04,\n",
              "         2.29098857e-03, -2.06099148e-03,  8.96062760e-04,\n",
              "        -2.47450732e-03, -4.68465546e-03, -3.19192931e-03,\n",
              "        -1.50496617e-03, -1.27545313e-03,  1.75303686e-03,\n",
              "        -3.04254354e-03, -1.25938945e-03,  2.78932112e-03,\n",
              "         2.69684475e-04,  2.07442744e-03, -2.71661696e-03,\n",
              "         2.82808580e-03, -1.41100667e-03,  1.01331156e-03,\n",
              "         2.30394630e-03, -9.88815795e-04, -6.28380687e-04,\n",
              "        -2.32038298e-03, -4.11448302e-03,  5.12087252e-03,\n",
              "         3.24970206e-05, -1.12043496e-03,  2.53983635e-05,\n",
              "         2.99457315e-04,  9.38240730e-04,  9.05674067e-04,\n",
              "         1.27017370e-03,  1.48803368e-03, -1.86736300e-03,\n",
              "         3.11885873e-04,  1.44457130e-03,  1.04727759e-03,\n",
              "        -1.18415209e-03, -3.21802823e-03,  4.87730047e-03,\n",
              "        -1.18355826e-03, -1.62089593e-03,  8.86984752e-04,\n",
              "         1.67719391e-03, -1.93033519e-03,  3.10049159e-03,\n",
              "        -9.56085511e-04,  8.21430876e-04,  1.84214301e-03,\n",
              "        -1.60903134e-03,  1.29377248e-03,  2.32352316e-03,\n",
              "        -1.59821950e-03,  1.74143910e-03,  5.03896177e-03,\n",
              "        -8.68415576e-04, -9.79193603e-04,  3.28891142e-03,\n",
              "        -2.44679279e-03,  3.00134742e-03,  1.89332990e-04,\n",
              "        -5.30993240e-03, -1.39240827e-03,  5.80520835e-04,\n",
              "        -5.81778411e-04],\n",
              "       [-1.03778346e-03,  2.13029981e-03, -3.05779953e-03,\n",
              "         1.02716840e-04,  3.24349082e-03,  5.14787855e-04,\n",
              "         1.49147736e-03,  2.38337670e-03, -3.20282765e-04,\n",
              "         1.71062537e-04,  1.92171335e-03, -1.97556382e-03,\n",
              "         3.82713997e-03,  1.25820423e-03,  3.42559273e-04,\n",
              "        -2.28609168e-03,  6.02403330e-03, -1.33855315e-03,\n",
              "        -4.44898801e-03, -1.56172516e-03,  1.99042540e-03,\n",
              "         6.40749233e-04,  2.27850024e-03,  1.29589648e-03,\n",
              "        -6.17421640e-04, -2.20100605e-03,  1.88015774e-03,\n",
              "         2.39317026e-03, -1.05733727e-03,  5.97879582e-04,\n",
              "         1.18139113e-04, -1.80069543e-03, -1.48001721e-03,\n",
              "        -3.27729085e-03, -2.84796208e-03,  7.50541687e-04,\n",
              "         2.38014781e-03, -6.95689989e-04, -9.51973663e-04,\n",
              "         1.78543245e-03, -1.59895723e-03,  1.78195583e-03,\n",
              "         1.50150608e-03, -1.14337029e-03,  2.58723507e-03,\n",
              "         2.89576850e-03, -1.78100588e-03, -6.25153247e-04,\n",
              "         1.00783625e-04,  1.37271651e-03, -7.12241279e-04,\n",
              "        -7.11701636e-04, -3.59690539e-03, -3.99522576e-03,\n",
              "        -1.21824269e-03, -2.66026123e-03,  3.10090929e-03,\n",
              "         1.44191040e-03, -4.65987541e-04, -6.27190922e-04,\n",
              "         3.63940962e-05, -3.23984004e-03,  3.49526084e-03,\n",
              "         4.69622784e-04, -2.89892568e-03,  1.37325097e-03,\n",
              "        -7.54647539e-04,  2.12192070e-03, -3.13083082e-03,\n",
              "         7.32445100e-04,  3.27355717e-03,  1.63353092e-04,\n",
              "         2.02481286e-03,  4.03180631e-04, -1.33705884e-03,\n",
              "        -2.29609851e-03,  2.22947844e-03,  2.27105687e-03,\n",
              "        -3.42726940e-03,  1.18308305e-03, -2.96952343e-03,\n",
              "        -1.05507548e-04, -1.11588393e-03,  2.69274600e-03,\n",
              "         3.93477181e-04, -2.02400959e-03,  1.62484637e-03,\n",
              "         1.59869122e-03,  1.72004709e-03, -1.29699346e-03,\n",
              "        -5.69237047e-04,  1.59239734e-03,  2.57645943e-03,\n",
              "        -2.22377898e-03,  3.56033584e-03,  1.37380208e-03,\n",
              "         1.07100804e-03, -2.38700584e-03,  2.39603396e-04,\n",
              "         3.72327428e-04]], dtype=float32)"
            ]
          },
          "metadata": {},
          "execution_count": 70
        }
      ]
    },
    {
      "cell_type": "code",
      "source": [
        "# Compute cosine similarity between document vectors\n",
        "similarity_matrix = cosine_similarity(doc_vectors)\n",
        "\n",
        "# Display similarity matrix\n",
        "print(\"Cosine Similarity Matrix:\")\n",
        "print(similarity_matrix)"
      ],
      "metadata": {
        "colab": {
          "base_uri": "https://localhost:8080/"
        },
        "id": "06OcmkuEraDP",
        "outputId": "2e0d349c-c751-4a3d-f9bd-e0885b308d3d"
      },
      "execution_count": null,
      "outputs": [
        {
          "output_type": "stream",
          "name": "stdout",
          "text": [
            "Cosine Similarity Matrix:\n",
            "[[ 0.99999994 -0.2026389  -0.09507915  0.1827995  -0.12747322  0.16530696\n",
            "   0.08351268  0.06255487]\n",
            " [-0.2026389   0.99999994  0.19344446 -0.01583196  0.04965648 -0.20567267\n",
            "  -0.09746958 -0.01216492]\n",
            " [-0.09507915  0.19344446  0.9999999  -0.08710445 -0.05224112 -0.00794278\n",
            "   0.16831098  0.06326354]\n",
            " [ 0.1827995  -0.01583196 -0.08710445  1.          0.34530884  0.15226737\n",
            "   0.11386557  0.06442807]\n",
            " [-0.12747322  0.04965648 -0.05224112  0.34530884  0.9999999  -0.11013936\n",
            "  -0.04508562  0.09013114]\n",
            " [ 0.16530696 -0.20567267 -0.00794278  0.15226737 -0.11013936  0.9999999\n",
            "   0.2332784   0.085558  ]\n",
            " [ 0.08351268 -0.09746958  0.16831098  0.11386557 -0.04508562  0.2332784\n",
            "   0.9999998   0.07393757]\n",
            " [ 0.06255487 -0.01216492  0.06326354  0.06442807  0.09013114  0.085558\n",
            "   0.07393757  0.9999997 ]]\n"
          ]
        }
      ]
    },
    {
      "cell_type": "code",
      "source": [
        "# for heatmap visualisation\n",
        "import seaborn as sns\n",
        "import matplotlib.pyplot as plt\n",
        "\n",
        "# Generate the heatmap for the cosine similarity matrix\n",
        "plt.figure(figsize=(8, 6))\n",
        "sns.heatmap(similarity_matrix, annot=True, cmap=\"Blues\", xticklabels=range(1, len(documents)+1), yticklabels=range(1, len(documents)+1))\n",
        "\n",
        "plt.title('Cosine Similarity Between Documents')\n",
        "plt.xlabel('Document Number')\n",
        "plt.ylabel('Document Number')\n",
        "plt.show()"
      ],
      "metadata": {
        "colab": {
          "base_uri": "https://localhost:8080/",
          "height": 564
        },
        "id": "9nBo9Puhrr31",
        "outputId": "4bfe3079-2a81-4300-cd72-b617d1f63861"
      },
      "execution_count": null,
      "outputs": [
        {
          "output_type": "display_data",
          "data": {
            "text/plain": [
              "<Figure size 800x600 with 2 Axes>"
            ],
            "image/png": "[encoded data removed]"
          },
          "metadata": {}
        }
      ]
    },
    {
      "cell_type": "markdown",
      "source": [
        "Conclusion from the heatmap:We can see that the documents are not similar to each other...."
      ],
      "metadata": {
        "id": "aqXWVwZfsw6A"
      }
    }
  ]
}