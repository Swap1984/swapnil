{
  "nbformat": 4,
  "nbformat_minor": 0,
  "metadata": {
    "colab": {
      "provenance": [],
      "collapsed_sections": [
        "FD55JaWqIPpK",
        "-b8ADYIqZ17W",
        "0pcD6kNdaHG2",
        "Pek68wqLbNLg",
        "fPsSKgmybbYJ"
      ],
      "authorship_tag": "ABX9TyMsjTq5/Z4aipuqFQiT/Sis",
      "include_colab_link": true
    },
    "kernelspec": {
      "name": "python3",
      "display_name": "Python 3"
    },
    "language_info": {
      "name": "python"
    }
  },
  "cells": [
    {
      "cell_type": "markdown",
      "metadata": {
        "id": "view-in-github",
        "colab_type": "text"
      },
      "source": [
        "<a href=\"https://colab.research.google.com/github/Swap1984/swapnil/blob/main/Assignment_TF_IDF.ipynb\" target=\"_parent\"><img src=\"https://colab.research.google.com/assets/colab-badge.svg\" alt=\"Open In Colab\"/></a>"
      ]
    },
    {
      "cell_type": "markdown",
      "source": [
        "#TF-IDF method of Embedding"
      ],
      "metadata": {
        "id": "SwlLdsI6Km52"
      }
    },
    {
      "cell_type": "markdown",
      "source": [
        "\n",
        "While BoW focuses purely on counting the frequency of terms, TF-IDF adjusts these counts by considering how common or rare a word is across a corpus (set of documents). This helps in down-weighting common words (like \"the\", \"is\") and emphasizing important words that are specific to a document.\n",
        "\n",
        "**Key Concepts**\n",
        "\n",
        "TF-IDF (Term Frequency-Inverse Document Frequency):\n",
        "\n",
        "Purpose: Measures how important a word is in a document relative to the entire corpus.\n",
        "\n",
        "Effect: It down-weights common words (that appear in many documents) and emphasizes words that are unique to specific documents.\n",
        "\n",
        "Output: Each document is represented as a vector of TF-IDF scores.\n",
        "\n",
        "**Advantages of TF-IDF and Cosine Similarity:**\n",
        "\n",
        "Robust to Document Length:\n",
        "\n",
        "Since cosine similarity is based on the angle between vectors, it ignores document length, making it robust for comparing documents of different sizes.\n",
        "Considers Importance of Terms:\n",
        "\n",
        "TF-IDF accounts for the relative importance of terms in a document and across documents. Common words (like stop words) are down-weighted, while rare, informative words have higher impact.\n",
        "Efficient for Sparse Data:\n",
        "\n",
        "Text data is often sparse, meaning that documents share relatively few words. TF-IDF with cosine similarity efficiently handles this sparsity.\n",
        "Interpretability:\n",
        "\n",
        "TF-IDF scores are easy to interpret: they represent the importance of each word in the document relative to the corpus, while cosine similarity is straightforward in showing how similar documents are.\n",
        "\n",
        "**Disadvantages of TF-IDF and Cosine Similarity:**\n",
        "\n",
        "Does Not Consider Word Order:\n",
        "\n",
        "Both TF-IDF and cosine similarity ignore the sequence of words (context). This means two documents that share the same words but in different orders could still be considered similar.\n",
        "No Semantic Understanding:\n",
        "\n",
        "TF-IDF treats words as independent tokens, meaning it cannot capture synonyms or other semantic relationships between words. For example, \"car\" and \"automobile\" would be treated as different terms.\n",
        "Limited for Short Texts:\n",
        "\n",
        "When working with very short documents (like tweets or single sentences), the lack of context may lead to lower quality results, since TF-IDF relies on term frequency.\n"
      ],
      "metadata": {
        "id": "YdNet7nxTeNu"
      }
    },
    {
      "cell_type": "markdown",
      "source": [
        "### **Comparison: TF-IDF vs. Bag of Words (BoW)**\n",
        "\n",
        "| **Feature**                 | **TF-IDF**                                                   | **Bag of Words (BoW)**                                     |\n",
        "|-----------------------------|---------------------------------------------------------------|------------------------------------------------------------|\n",
        "| **Word Importance**          | Considers the relative importance of words across the corpus | Treats all words with equal importance                      |\n",
        "| **Document Representation**  | Each document is a weighted vector of word importance         | Each document is represented as a simple word count vector  |\n",
        "| **Common Terms**             | Down-weights frequent, less informative words                | Common words are weighted equally with unique words         |\n",
        "| **Semantic Understanding**   | Does not capture word meaning, but considers frequency        | Treats words as independent tokens without semantic context |\n",
        "| **Document Length**          | Insensitive to length (cosine similarity)                    | May give more weight to longer documents                    |\n",
        "| **Best Use Case**            | Best for long documents or collections of documents           | Better for simpler tasks with smaller datasets              |\n"
      ],
      "metadata": {
        "id": "7hvIk-gkK3Lq"
      }
    },
    {
      "cell_type": "markdown",
      "source": [
        "# TF-IDF Code"
      ],
      "metadata": {
        "id": "FD55JaWqIPpK"
      }
    },
    {
      "cell_type": "markdown",
      "source": [
        "Initialising Libraries for preprocessing the data for emmbedding"
      ],
      "metadata": {
        "id": "0-lN9sTSUHgY"
      }
    },
    {
      "cell_type": "code",
      "source": [
        "import string #This module is used to remove punctuation from the text.\n",
        "import re #This regular expressions module is useful for operations like replacing repeated characters.\n",
        "from nltk.corpus import stopwords #  Provides a list of common English stopwords (e.g., \"the\", \"is\") that are generally not informative in text analysis.\n",
        "from nltk.tokenize import word_tokenize # to Tokenize a string into individual words.\n",
        "from nltk.stem import WordNetLemmatizer # to Convert words to their base (dictionary) form using lemmatization.\n",
        "from sklearn.feature_extraction.text import TfidfVectorizer # to Convert a collection of raw documents to a matrix of TF-IDF features."
      ],
      "metadata": {
        "id": "j70G4RxZTozR"
      },
      "execution_count": null,
      "outputs": []
    },
    {
      "cell_type": "code",
      "source": [
        "# using a paragraph as input . data =\"\"   \"\"\n",
        "data = \"\"\"Yes, life is full, there is life even underground,” he began again. “You wouldn’t believe, Alexey, how I want to live now, what a thirst for existence and consciousness has sprung up in me within these peeling walls… And what is suffering? I am not afraid of it, even if it were beyond reckoning. I am not afraid of it now. I was afraid of it before… And I seem to have such strength in me now, that I think I could stand anything, any suffering, only to be able to say and to repeat to myself every moment, ‘I exist.’ In thousands of agonies — I exist. I’m tormented on the rack — but I exist! Though I sit alone on a pillar — I exist! I see the sun, and if I don’t see the sun, I know it’s there. And there’s a whole life in that, in knowing that the sun is there.\"\"\""
      ],
      "metadata": {
        "id": "1x4mCTtVUvjz"
      },
      "execution_count": null,
      "outputs": []
    },
    {
      "cell_type": "code",
      "source": [
        "# Lowercasing\n",
        "data = data.lower()\n",
        "data"
      ],
      "metadata": {
        "colab": {
          "base_uri": "https://localhost:8080/",
          "height": 105
        },
        "id": "j-zFLFenU-5M",
        "outputId": "75881463-bbf3-4029-e265-a0608cb0a37d"
      },
      "execution_count": null,
      "outputs": [
        {
          "output_type": "execute_result",
          "data": {
            "text/plain": [
              "'yes, life is full, there is life even underground,” he began again. “you wouldn’t believe, alexey, how i want to live now, what a thirst for existence and consciousness has sprung up in me within these peeling walls… and what is suffering? i am not afraid of it, even if it were beyond reckoning. i am not afraid of it now. i was afraid of it before… and i seem to have such strength in me now, that i think i could stand anything, any suffering, only to be able to say and to repeat to myself every moment, ‘i exist.’ in thousands of agonies — i exist. i’m tormented on the rack — but i exist! though i sit alone on a pillar — i exist! i see the sun, and if i don’t see the sun, i know it’s there. and there’s a whole life in that, in knowing that the sun is there.'"
            ],
            "application/vnd.google.colaboratory.intrinsic+json": {
              "type": "string"
            }
          },
          "metadata": {},
          "execution_count": 4
        }
      ]
    },
    {
      "cell_type": "code",
      "source": [
        "# Removing ellipses and punctuation, including straight and curly quotation marks\n",
        "data = re.sub(r'\\.{2,}', '', data)  # Remove ellipses (two or more dots)\n",
        "data = re.sub(r'…', ' ', data)  # Replace Unicode ellipses with a space\n",
        "data = re.sub(r'\\s+', ' ', data)  # Replace multiple spaces with a single space\n",
        "data = re.sub(r'\\.\\.\\.+', '', data)  # Remove ellipses\n",
        "punctuation = string.punctuation + \"“”‘’—\"  # Include curly quotes and em dash\n",
        "data= data.translate(str.maketrans(\"\", \"\", punctuation))# Removing punctuation\n",
        "data\n"
      ],
      "metadata": {
        "colab": {
          "base_uri": "https://localhost:8080/",
          "height": 105
        },
        "id": "GdvW4t7pVGM7",
        "outputId": "d098f0db-f38d-4224-e621-3ca457c04c18"
      },
      "execution_count": null,
      "outputs": [
        {
          "output_type": "execute_result",
          "data": {
            "text/plain": [
              "'yes life is full there is life even underground he began again you wouldnt believe alexey how i want to live now what a thirst for existence and consciousness has sprung up in me within these peeling walls and what is suffering i am not afraid of it even if it were beyond reckoning i am not afraid of it now i was afraid of it before and i seem to have such strength in me now that i think i could stand anything any suffering only to be able to say and to repeat to myself every moment i exist in thousands of agonies  i exist im tormented on the rack  but i exist though i sit alone on a pillar  i exist i see the sun and if i dont see the sun i know its there and theres a whole life in that in knowing that the sun is there'"
            ],
            "application/vnd.google.colaboratory.intrinsic+json": {
              "type": "string"
            }
          },
          "metadata": {},
          "execution_count": 5
        }
      ]
    },
    {
      "cell_type": "markdown",
      "source": [
        "I was getting the ellipses even after including the ellipsees removing code so I used the unicode ellipses removal method by converting them into spaces and then the space removing method to get rid of the entire punctuation and formatting of the data.\n",
        "As seen above all the punctuation marks were to be removed but we see that the curly quotation marks and hyphen and dots are still there so adding the same to the string libraray and processing the data.\n",
        "Thus we see that all punctuation marks have been removed"
      ],
      "metadata": {
        "id": "PbM7kq1IV7ji"
      }
    },
    {
      "cell_type": "code",
      "source": [
        "import nltk\n",
        "nltk.download('stopwords')  # Download the stopwords resource"
      ],
      "metadata": {
        "colab": {
          "base_uri": "https://localhost:8080/"
        },
        "id": "EBBkXRALWddW",
        "outputId": "c4da85f2-a968-4323-a61e-665e9ae8ec96"
      },
      "execution_count": null,
      "outputs": [
        {
          "output_type": "stream",
          "name": "stderr",
          "text": [
            "[nltk_data] Downloading package stopwords to /root/nltk_data...\n",
            "[nltk_data]   Unzipping corpora/stopwords.zip.\n"
          ]
        },
        {
          "output_type": "execute_result",
          "data": {
            "text/plain": [
              "True"
            ]
          },
          "metadata": {},
          "execution_count": 6
        }
      ]
    },
    {
      "cell_type": "code",
      "source": [
        "# Removing stopwords\n",
        "stop_words = set(stopwords.words(\"english\"))\n",
        "data = \" \".join([word for word in data.split() if word not in stop_words])\n",
        "data"
      ],
      "metadata": {
        "colab": {
          "base_uri": "https://localhost:8080/",
          "height": 70
        },
        "id": "MnKSzsrBWh5T",
        "outputId": "d5ff7f0f-d4a1-4bbe-e782-9437520ffff5"
      },
      "execution_count": null,
      "outputs": [
        {
          "output_type": "execute_result",
          "data": {
            "text/plain": [
              "'yes life full life even underground began wouldnt believe alexey want live thirst existence consciousness sprung within peeling walls suffering afraid even beyond reckoning afraid afraid seem strength think could stand anything suffering able say repeat every moment exist thousands agonies exist im tormented rack exist though sit alone pillar exist see sun dont see sun know theres whole life knowing sun'"
            ],
            "application/vnd.google.colaboratory.intrinsic+json": {
              "type": "string"
            }
          },
          "metadata": {},
          "execution_count": 7
        }
      ]
    },
    {
      "cell_type": "code",
      "source": [
        "import nltk\n",
        "nltk.download('punkt') # required as an weerror occured during tokenisation"
      ],
      "metadata": {
        "colab": {
          "base_uri": "https://localhost:8080/"
        },
        "id": "XYITiWBjWm6q",
        "outputId": "77588c14-f604-4e89-c76b-31d2c9e975e4"
      },
      "execution_count": null,
      "outputs": [
        {
          "output_type": "stream",
          "name": "stderr",
          "text": [
            "[nltk_data] Downloading package punkt to /root/nltk_data...\n",
            "[nltk_data]   Unzipping tokenizers/punkt.zip.\n"
          ]
        },
        {
          "output_type": "execute_result",
          "data": {
            "text/plain": [
              "True"
            ]
          },
          "metadata": {},
          "execution_count": 8
        }
      ]
    },
    {
      "cell_type": "code",
      "source": [
        "#Lemmatization to convert the worts to their root form\n",
        "import nltk\n",
        "nltk.download('wordnet') #required as the error occured during lemmatization\n",
        "lemmatizer = WordNetLemmatizer()\n",
        "tokens = [lemmatizer.lemmatize(token) for token in tokens]\n",
        "tokens"
      ],
      "metadata": {
        "colab": {
          "base_uri": "https://localhost:8080/"
        },
        "id": "JnYidNaJWwy7",
        "outputId": "e36fdb7e-c345-4c45-8353-bd46cb489830"
      },
      "execution_count": null,
      "outputs": [
        {
          "output_type": "stream",
          "name": "stderr",
          "text": [
            "[nltk_data] Downloading package wordnet to /root/nltk_data...\n"
          ]
        },
        {
          "output_type": "execute_result",
          "data": {
            "text/plain": [
              "['yes',\n",
              " 'life',\n",
              " 'full',\n",
              " 'life',\n",
              " 'even',\n",
              " 'underground',\n",
              " 'began',\n",
              " 'wouldnt',\n",
              " 'believe',\n",
              " 'alexey',\n",
              " 'want',\n",
              " 'live',\n",
              " 'thirst',\n",
              " 'existence',\n",
              " 'consciousness',\n",
              " 'sprung',\n",
              " 'within',\n",
              " 'peeling',\n",
              " 'wall',\n",
              " 'suffering',\n",
              " 'afraid',\n",
              " 'even',\n",
              " 'beyond',\n",
              " 'reckoning',\n",
              " 'afraid',\n",
              " 'afraid',\n",
              " 'seem',\n",
              " 'strength',\n",
              " 'think',\n",
              " 'could',\n",
              " 'stand',\n",
              " 'anything',\n",
              " 'suffering',\n",
              " 'able',\n",
              " 'say',\n",
              " 'repeat',\n",
              " 'every',\n",
              " 'moment',\n",
              " 'exist',\n",
              " 'thousand',\n",
              " 'agony',\n",
              " 'exist',\n",
              " 'im',\n",
              " 'tormented',\n",
              " 'rack',\n",
              " 'exist',\n",
              " 'though',\n",
              " 'sit',\n",
              " 'alone',\n",
              " 'pillar',\n",
              " 'exist',\n",
              " 'see',\n",
              " 'sun',\n",
              " 'dont',\n",
              " 'see',\n",
              " 'sun',\n",
              " 'know',\n",
              " 'there',\n",
              " 'whole',\n",
              " 'life',\n",
              " 'knowing',\n",
              " 'sun']"
            ]
          },
          "metadata": {},
          "execution_count": 10
        }
      ]
    },
    {
      "cell_type": "markdown",
      "source": [
        "We see that the lemmatized output still contains the words with suffixes. We will have to perform Parts of speech (POS) tagging for this . thus we will perform following actions"
      ],
      "metadata": {
        "id": "XNInrZ3lW6yn"
      }
    },
    {
      "cell_type": "code",
      "source": [
        "from nltk.corpus import wordnet\n",
        "from nltk.stem import WordNetLemmatizer\n",
        "from nltk import pos_tag\n",
        "nltk.download('averaged_perceptron_tagger')\n",
        "nltk.download('wordnet')\n",
        "#Function to get the WordNet POS tag for lemmatization\n",
        "def get_wordnet_pos(tag):\n",
        "    if tag.startswith('J'):\n",
        "        return wordnet.ADJ\n",
        "    elif tag.startswith('V'):\n",
        "        return wordnet.VERB\n",
        "    elif tag.startswith('N'):\n",
        "        return wordnet.NOUN\n",
        "    elif tag.startswith('R'):\n",
        "        return wordnet.ADV\n",
        "    else:\n",
        "        return wordnet.NOUN  # Default to noun if no match\n"
      ],
      "metadata": {
        "colab": {
          "base_uri": "https://localhost:8080/"
        },
        "id": "Sf2_VknzW8BZ",
        "outputId": "c6766022-5267-40ed-e58a-2c9255a8c0bb"
      },
      "execution_count": null,
      "outputs": [
        {
          "output_type": "stream",
          "name": "stderr",
          "text": [
            "[nltk_data] Downloading package averaged_perceptron_tagger to\n",
            "[nltk_data]     /root/nltk_data...\n",
            "[nltk_data]   Unzipping taggers/averaged_perceptron_tagger.zip.\n",
            "[nltk_data] Downloading package wordnet to /root/nltk_data...\n",
            "[nltk_data]   Package wordnet is already up-to-date!\n"
          ]
        }
      ]
    },
    {
      "cell_type": "code",
      "source": [
        "tokens = word_tokenize(data)\n",
        "pos_tags = pos_tag(tokens)\n",
        "lemmatizer = WordNetLemmatizer()\n",
        "lemmatized_tokens = [lemmatizer.lemmatize(token, get_wordnet_pos(pos)) for token, pos in pos_tags]\n",
        "lemmatized_tokens"
      ],
      "metadata": {
        "colab": {
          "base_uri": "https://localhost:8080/"
        },
        "id": "ZWShS47DXDyR",
        "outputId": "efe4be8f-33c1-4c7c-c4b0-37bc47e2a8d0"
      },
      "execution_count": null,
      "outputs": [
        {
          "output_type": "execute_result",
          "data": {
            "text/plain": [
              "['yes',\n",
              " 'life',\n",
              " 'full',\n",
              " 'life',\n",
              " 'even',\n",
              " 'underground',\n",
              " 'begin',\n",
              " 'wouldnt',\n",
              " 'believe',\n",
              " 'alexey',\n",
              " 'want',\n",
              " 'live',\n",
              " 'thirst',\n",
              " 'existence',\n",
              " 'consciousness',\n",
              " 'sprung',\n",
              " 'within',\n",
              " 'peel',\n",
              " 'wall',\n",
              " 'suffer',\n",
              " 'afraid',\n",
              " 'even',\n",
              " 'beyond',\n",
              " 'reckon',\n",
              " 'afraid',\n",
              " 'afraid',\n",
              " 'seem',\n",
              " 'strength',\n",
              " 'think',\n",
              " 'could',\n",
              " 'stand',\n",
              " 'anything',\n",
              " 'suffer',\n",
              " 'able',\n",
              " 'say',\n",
              " 'repeat',\n",
              " 'every',\n",
              " 'moment',\n",
              " 'exist',\n",
              " 'thousand',\n",
              " 'agony',\n",
              " 'exist',\n",
              " 'im',\n",
              " 'torment',\n",
              " 'rack',\n",
              " 'exist',\n",
              " 'though',\n",
              " 'sit',\n",
              " 'alone',\n",
              " 'pillar',\n",
              " 'exist',\n",
              " 'see',\n",
              " 'sun',\n",
              " 'dont',\n",
              " 'see',\n",
              " 'sun',\n",
              " 'know',\n",
              " 'theres',\n",
              " 'whole',\n",
              " 'life',\n",
              " 'know',\n",
              " 'sun']"
            ]
          },
          "metadata": {},
          "execution_count": 12
        }
      ]
    },
    {
      "cell_type": "markdown",
      "source": [
        "As seen there are repeated word in the corpus now.. we will keep only the unique words"
      ],
      "metadata": {
        "id": "U-rmUcu4XTwT"
      }
    },
    {
      "cell_type": "code",
      "source": [
        "#Remove duplicates while preserving order\n",
        "unique_tokens = list(dict.fromkeys(lemmatized_tokens))\n",
        "unique_tokens"
      ],
      "metadata": {
        "colab": {
          "base_uri": "https://localhost:8080/"
        },
        "id": "xCL8nNrdXS32",
        "outputId": "ba2f0c40-6ee2-4c21-8f70-39c83d9c450c"
      },
      "execution_count": null,
      "outputs": [
        {
          "output_type": "execute_result",
          "data": {
            "text/plain": [
              "['yes',\n",
              " 'life',\n",
              " 'full',\n",
              " 'even',\n",
              " 'underground',\n",
              " 'begin',\n",
              " 'wouldnt',\n",
              " 'believe',\n",
              " 'alexey',\n",
              " 'want',\n",
              " 'live',\n",
              " 'thirst',\n",
              " 'existence',\n",
              " 'consciousness',\n",
              " 'sprung',\n",
              " 'within',\n",
              " 'peel',\n",
              " 'wall',\n",
              " 'suffer',\n",
              " 'afraid',\n",
              " 'beyond',\n",
              " 'reckon',\n",
              " 'seem',\n",
              " 'strength',\n",
              " 'think',\n",
              " 'could',\n",
              " 'stand',\n",
              " 'anything',\n",
              " 'able',\n",
              " 'say',\n",
              " 'repeat',\n",
              " 'every',\n",
              " 'moment',\n",
              " 'exist',\n",
              " 'thousand',\n",
              " 'agony',\n",
              " 'im',\n",
              " 'torment',\n",
              " 'rack',\n",
              " 'though',\n",
              " 'sit',\n",
              " 'alone',\n",
              " 'pillar',\n",
              " 'see',\n",
              " 'sun',\n",
              " 'dont',\n",
              " 'know',\n",
              " 'theres',\n",
              " 'whole']"
            ]
          },
          "metadata": {},
          "execution_count": 13
        }
      ]
    },
    {
      "cell_type": "code",
      "source": [
        "# Removing digits\n",
        "final_tokens = [token for token in unique_tokens if token.isalpha()]\n",
        "final_tokens"
      ],
      "metadata": {
        "colab": {
          "base_uri": "https://localhost:8080/"
        },
        "id": "iZQD24AAXm0m",
        "outputId": "25c67a3b-9c65-4ce8-d1e8-77985a99276d"
      },
      "execution_count": null,
      "outputs": [
        {
          "output_type": "execute_result",
          "data": {
            "text/plain": [
              "['yes',\n",
              " 'life',\n",
              " 'full',\n",
              " 'even',\n",
              " 'underground',\n",
              " 'begin',\n",
              " 'wouldnt',\n",
              " 'believe',\n",
              " 'alexey',\n",
              " 'want',\n",
              " 'live',\n",
              " 'thirst',\n",
              " 'existence',\n",
              " 'consciousness',\n",
              " 'sprung',\n",
              " 'within',\n",
              " 'peel',\n",
              " 'wall',\n",
              " 'suffer',\n",
              " 'afraid',\n",
              " 'beyond',\n",
              " 'reckon',\n",
              " 'seem',\n",
              " 'strength',\n",
              " 'think',\n",
              " 'could',\n",
              " 'stand',\n",
              " 'anything',\n",
              " 'able',\n",
              " 'say',\n",
              " 'repeat',\n",
              " 'every',\n",
              " 'moment',\n",
              " 'exist',\n",
              " 'thousand',\n",
              " 'agony',\n",
              " 'im',\n",
              " 'torment',\n",
              " 'rack',\n",
              " 'though',\n",
              " 'sit',\n",
              " 'alone',\n",
              " 'pillar',\n",
              " 'see',\n",
              " 'sun',\n",
              " 'dont',\n",
              " 'know',\n",
              " 'theres',\n",
              " 'whole']"
            ]
          },
          "metadata": {},
          "execution_count": 14
        }
      ]
    },
    {
      "cell_type": "code",
      "source": [
        "# Handelling rare words which may not add much value thus can be removed\n",
        "\n",
        "from collections import Counter\n",
        "word_freq = Counter(final_tokens)\n",
        "final_tokens1 = [token for token in tokens if word_freq[token] > 1]\n",
        "final_tokens1"
      ],
      "metadata": {
        "colab": {
          "base_uri": "https://localhost:8080/"
        },
        "id": "f1RKQ48ZXr72",
        "outputId": "b8ca08ee-ef90-4f82-9799-ce24901d37de"
      },
      "execution_count": null,
      "outputs": [
        {
          "output_type": "execute_result",
          "data": {
            "text/plain": [
              "[]"
            ]
          },
          "metadata": {},
          "execution_count": 15
        }
      ]
    },
    {
      "cell_type": "code",
      "source": [
        "#This will create unigrams and bigrams\n",
        "from sklearn.feature_extraction.text import CountVectorizer\n",
        "vectorizer = CountVectorizer(ngram_range=(1, 2))\n",
        "vectorizer.fit(final_tokens)\n",
        "unigrams_bigrams = vectorizer.get_feature_names_out()\n",
        "unigrams_bigrams"
      ],
      "metadata": {
        "colab": {
          "base_uri": "https://localhost:8080/"
        },
        "id": "ZZXXdCDTX_J_",
        "outputId": "7453d1d5-1dc6-461d-f05f-80b3ffb05a1b"
      },
      "execution_count": null,
      "outputs": [
        {
          "output_type": "execute_result",
          "data": {
            "text/plain": [
              "array(['able', 'afraid', 'agony', 'alexey', 'alone', 'anything', 'begin',\n",
              "       'believe', 'beyond', 'consciousness', 'could', 'dont', 'even',\n",
              "       'every', 'exist', 'existence', 'full', 'im', 'know', 'life',\n",
              "       'live', 'moment', 'peel', 'pillar', 'rack', 'reckon', 'repeat',\n",
              "       'say', 'see', 'seem', 'sit', 'sprung', 'stand', 'strength',\n",
              "       'suffer', 'sun', 'theres', 'think', 'thirst', 'though', 'thousand',\n",
              "       'torment', 'underground', 'wall', 'want', 'whole', 'within',\n",
              "       'wouldnt', 'yes'], dtype=object)"
            ]
          },
          "metadata": {},
          "execution_count": 17
        }
      ]
    },
    {
      "cell_type": "markdown",
      "source": [
        "As seen in our corpus each word is unique and thus rare so our final token output is empty list.so moving ahead with the final tokens list for embedding."
      ],
      "metadata": {
        "id": "O_-1EAoIX0bq"
      }
    },
    {
      "cell_type": "code",
      "source": [
        "final_tokens"
      ],
      "metadata": {
        "colab": {
          "base_uri": "https://localhost:8080/"
        },
        "id": "MnqYohDYX2k6",
        "outputId": "19cacbca-ba38-4aab-fe58-30f435d9ba31"
      },
      "execution_count": null,
      "outputs": [
        {
          "output_type": "execute_result",
          "data": {
            "text/plain": [
              "['yes',\n",
              " 'life',\n",
              " 'full',\n",
              " 'even',\n",
              " 'underground',\n",
              " 'begin',\n",
              " 'wouldnt',\n",
              " 'believe',\n",
              " 'alexey',\n",
              " 'want',\n",
              " 'live',\n",
              " 'thirst',\n",
              " 'existence',\n",
              " 'consciousness',\n",
              " 'sprung',\n",
              " 'within',\n",
              " 'peel',\n",
              " 'wall',\n",
              " 'suffer',\n",
              " 'afraid',\n",
              " 'beyond',\n",
              " 'reckon',\n",
              " 'seem',\n",
              " 'strength',\n",
              " 'think',\n",
              " 'could',\n",
              " 'stand',\n",
              " 'anything',\n",
              " 'able',\n",
              " 'say',\n",
              " 'repeat',\n",
              " 'every',\n",
              " 'moment',\n",
              " 'exist',\n",
              " 'thousand',\n",
              " 'agony',\n",
              " 'im',\n",
              " 'torment',\n",
              " 'rack',\n",
              " 'though',\n",
              " 'sit',\n",
              " 'alone',\n",
              " 'pillar',\n",
              " 'see',\n",
              " 'sun',\n",
              " 'dont',\n",
              " 'know',\n",
              " 'theres',\n",
              " 'whole']"
            ]
          },
          "metadata": {},
          "execution_count": 16
        }
      ]
    },
    {
      "cell_type": "code",
      "source": [
        "#Join the tokens into a single string (since TF-IDF expects text data, not tokenized words)\n",
        "text_data = \" \".join(final_tokens)\n",
        "text_data"
      ],
      "metadata": {
        "colab": {
          "base_uri": "https://localhost:8080/",
          "height": 53
        },
        "id": "27gLlMUxYVxD",
        "outputId": "a78c844a-e9fb-4c00-d1a5-355aef774932"
      },
      "execution_count": null,
      "outputs": [
        {
          "output_type": "execute_result",
          "data": {
            "text/plain": [
              "'yes life full even underground begin wouldnt believe alexey want live thirst existence consciousness sprung within peel wall suffer afraid beyond reckon seem strength think could stand anything able say repeat every moment exist thousand agony im torment rack though sit alone pillar see sun dont know theres whole'"
            ],
            "application/vnd.google.colaboratory.intrinsic+json": {
              "type": "string"
            }
          },
          "metadata": {},
          "execution_count": 19
        }
      ]
    },
    {
      "cell_type": "code",
      "source": [
        "#TF-IDF matrix\n",
        "import pandas as pd\n",
        "from sklearn.feature_extraction.text import TfidfVectorizer\n"
      ],
      "metadata": {
        "id": "Gvl5niHWZGJQ"
      },
      "execution_count": null,
      "outputs": []
    },
    {
      "cell_type": "code",
      "source": [
        "#Create the TfidfVectorizer\n",
        "tfidf_vectorizer = TfidfVectorizer(ngram_range=(1, 2))  # Using both unigrams and bigrams"
      ],
      "metadata": {
        "id": "ZgO1EirEZMcC"
      },
      "execution_count": null,
      "outputs": []
    },
    {
      "cell_type": "code",
      "source": [
        "#Fit and transform the text data into TF-IDF representation\n",
        "tfidf_matrix = tfidf_vectorizer.fit_transform([text_data])"
      ],
      "metadata": {
        "id": "eD0l3dVfZTLq"
      },
      "execution_count": null,
      "outputs": []
    },
    {
      "cell_type": "code",
      "source": [
        "#Get the feature names (unigrams and bigrams)\n",
        "unigrams_bigrams_tfidf = tfidf_vectorizer.get_feature_names_out()\n",
        "unigrams_bigrams_tfidf"
      ],
      "metadata": {
        "colab": {
          "base_uri": "https://localhost:8080/"
        },
        "id": "d4MXjn9FZaA0",
        "outputId": "fbf22e95-4749-44fa-abcb-0a6e019546ca"
      },
      "execution_count": null,
      "outputs": [
        {
          "output_type": "execute_result",
          "data": {
            "text/plain": [
              "array(['able', 'able say', 'afraid', 'afraid beyond', 'agony', 'agony im',\n",
              "       'alexey', 'alexey want', 'alone', 'alone pillar', 'anything',\n",
              "       'anything able', 'begin', 'begin wouldnt', 'believe',\n",
              "       'believe alexey', 'beyond', 'beyond reckon', 'consciousness',\n",
              "       'consciousness sprung', 'could', 'could stand', 'dont',\n",
              "       'dont know', 'even', 'even underground', 'every', 'every moment',\n",
              "       'exist', 'exist thousand', 'existence', 'existence consciousness',\n",
              "       'full', 'full even', 'im', 'im torment', 'know', 'know theres',\n",
              "       'life', 'life full', 'live', 'live thirst', 'moment',\n",
              "       'moment exist', 'peel', 'peel wall', 'pillar', 'pillar see',\n",
              "       'rack', 'rack though', 'reckon', 'reckon seem', 'repeat',\n",
              "       'repeat every', 'say', 'say repeat', 'see', 'see sun', 'seem',\n",
              "       'seem strength', 'sit', 'sit alone', 'sprung', 'sprung within',\n",
              "       'stand', 'stand anything', 'strength', 'strength think', 'suffer',\n",
              "       'suffer afraid', 'sun', 'sun dont', 'theres', 'theres whole',\n",
              "       'think', 'think could', 'thirst', 'thirst existence', 'though',\n",
              "       'though sit', 'thousand', 'thousand agony', 'torment',\n",
              "       'torment rack', 'underground', 'underground begin', 'wall',\n",
              "       'wall suffer', 'want', 'want live', 'whole', 'within',\n",
              "       'within peel', 'wouldnt', 'wouldnt believe', 'yes', 'yes life'],\n",
              "      dtype=object)"
            ]
          },
          "metadata": {},
          "execution_count": 23
        }
      ]
    },
    {
      "cell_type": "code",
      "source": [
        "#Convert the TF-IDF matrix to an array to get the TF-IDF scores\n",
        "tfidf_array = tfidf_matrix.toarray()\n",
        "tfidf_array\n"
      ],
      "metadata": {
        "colab": {
          "base_uri": "https://localhost:8080/"
        },
        "id": "iutBpkL6ZgQj",
        "outputId": "302a4dfa-56bb-4ae7-c05b-b218b3a47cb0"
      },
      "execution_count": null,
      "outputs": [
        {
          "output_type": "execute_result",
          "data": {
            "text/plain": [
              "array([[0.10153462, 0.10153462, 0.10153462, 0.10153462, 0.10153462,\n",
              "        0.10153462, 0.10153462, 0.10153462, 0.10153462, 0.10153462,\n",
              "        0.10153462, 0.10153462, 0.10153462, 0.10153462, 0.10153462,\n",
              "        0.10153462, 0.10153462, 0.10153462, 0.10153462, 0.10153462,\n",
              "        0.10153462, 0.10153462, 0.10153462, 0.10153462, 0.10153462,\n",
              "        0.10153462, 0.10153462, 0.10153462, 0.10153462, 0.10153462,\n",
              "        0.10153462, 0.10153462, 0.10153462, 0.10153462, 0.10153462,\n",
              "        0.10153462, 0.10153462, 0.10153462, 0.10153462, 0.10153462,\n",
              "        0.10153462, 0.10153462, 0.10153462, 0.10153462, 0.10153462,\n",
              "        0.10153462, 0.10153462, 0.10153462, 0.10153462, 0.10153462,\n",
              "        0.10153462, 0.10153462, 0.10153462, 0.10153462, 0.10153462,\n",
              "        0.10153462, 0.10153462, 0.10153462, 0.10153462, 0.10153462,\n",
              "        0.10153462, 0.10153462, 0.10153462, 0.10153462, 0.10153462,\n",
              "        0.10153462, 0.10153462, 0.10153462, 0.10153462, 0.10153462,\n",
              "        0.10153462, 0.10153462, 0.10153462, 0.10153462, 0.10153462,\n",
              "        0.10153462, 0.10153462, 0.10153462, 0.10153462, 0.10153462,\n",
              "        0.10153462, 0.10153462, 0.10153462, 0.10153462, 0.10153462,\n",
              "        0.10153462, 0.10153462, 0.10153462, 0.10153462, 0.10153462,\n",
              "        0.10153462, 0.10153462, 0.10153462, 0.10153462, 0.10153462,\n",
              "        0.10153462, 0.10153462]])"
            ]
          },
          "metadata": {},
          "execution_count": 24
        }
      ]
    },
    {
      "cell_type": "code",
      "source": [
        "#Create a dictionary to map tokens to their TF-IDF scores\n",
        "tfidf_scores = dict(zip(unigrams_bigrams_tfidf, tfidf_array[0]))\n",
        "tfidf_scores"
      ],
      "metadata": {
        "colab": {
          "base_uri": "https://localhost:8080/"
        },
        "id": "lYvmW1rKZjQf",
        "outputId": "8589af03-96d7-4666-ef4e-9ba9380b52bd"
      },
      "execution_count": null,
      "outputs": [
        {
          "output_type": "execute_result",
          "data": {
            "text/plain": [
              "{'able': 0.10153461651336192,\n",
              " 'able say': 0.10153461651336192,\n",
              " 'afraid': 0.10153461651336192,\n",
              " 'afraid beyond': 0.10153461651336192,\n",
              " 'agony': 0.10153461651336192,\n",
              " 'agony im': 0.10153461651336192,\n",
              " 'alexey': 0.10153461651336192,\n",
              " 'alexey want': 0.10153461651336192,\n",
              " 'alone': 0.10153461651336192,\n",
              " 'alone pillar': 0.10153461651336192,\n",
              " 'anything': 0.10153461651336192,\n",
              " 'anything able': 0.10153461651336192,\n",
              " 'begin': 0.10153461651336192,\n",
              " 'begin wouldnt': 0.10153461651336192,\n",
              " 'believe': 0.10153461651336192,\n",
              " 'believe alexey': 0.10153461651336192,\n",
              " 'beyond': 0.10153461651336192,\n",
              " 'beyond reckon': 0.10153461651336192,\n",
              " 'consciousness': 0.10153461651336192,\n",
              " 'consciousness sprung': 0.10153461651336192,\n",
              " 'could': 0.10153461651336192,\n",
              " 'could stand': 0.10153461651336192,\n",
              " 'dont': 0.10153461651336192,\n",
              " 'dont know': 0.10153461651336192,\n",
              " 'even': 0.10153461651336192,\n",
              " 'even underground': 0.10153461651336192,\n",
              " 'every': 0.10153461651336192,\n",
              " 'every moment': 0.10153461651336192,\n",
              " 'exist': 0.10153461651336192,\n",
              " 'exist thousand': 0.10153461651336192,\n",
              " 'existence': 0.10153461651336192,\n",
              " 'existence consciousness': 0.10153461651336192,\n",
              " 'full': 0.10153461651336192,\n",
              " 'full even': 0.10153461651336192,\n",
              " 'im': 0.10153461651336192,\n",
              " 'im torment': 0.10153461651336192,\n",
              " 'know': 0.10153461651336192,\n",
              " 'know theres': 0.10153461651336192,\n",
              " 'life': 0.10153461651336192,\n",
              " 'life full': 0.10153461651336192,\n",
              " 'live': 0.10153461651336192,\n",
              " 'live thirst': 0.10153461651336192,\n",
              " 'moment': 0.10153461651336192,\n",
              " 'moment exist': 0.10153461651336192,\n",
              " 'peel': 0.10153461651336192,\n",
              " 'peel wall': 0.10153461651336192,\n",
              " 'pillar': 0.10153461651336192,\n",
              " 'pillar see': 0.10153461651336192,\n",
              " 'rack': 0.10153461651336192,\n",
              " 'rack though': 0.10153461651336192,\n",
              " 'reckon': 0.10153461651336192,\n",
              " 'reckon seem': 0.10153461651336192,\n",
              " 'repeat': 0.10153461651336192,\n",
              " 'repeat every': 0.10153461651336192,\n",
              " 'say': 0.10153461651336192,\n",
              " 'say repeat': 0.10153461651336192,\n",
              " 'see': 0.10153461651336192,\n",
              " 'see sun': 0.10153461651336192,\n",
              " 'seem': 0.10153461651336192,\n",
              " 'seem strength': 0.10153461651336192,\n",
              " 'sit': 0.10153461651336192,\n",
              " 'sit alone': 0.10153461651336192,\n",
              " 'sprung': 0.10153461651336192,\n",
              " 'sprung within': 0.10153461651336192,\n",
              " 'stand': 0.10153461651336192,\n",
              " 'stand anything': 0.10153461651336192,\n",
              " 'strength': 0.10153461651336192,\n",
              " 'strength think': 0.10153461651336192,\n",
              " 'suffer': 0.10153461651336192,\n",
              " 'suffer afraid': 0.10153461651336192,\n",
              " 'sun': 0.10153461651336192,\n",
              " 'sun dont': 0.10153461651336192,\n",
              " 'theres': 0.10153461651336192,\n",
              " 'theres whole': 0.10153461651336192,\n",
              " 'think': 0.10153461651336192,\n",
              " 'think could': 0.10153461651336192,\n",
              " 'thirst': 0.10153461651336192,\n",
              " 'thirst existence': 0.10153461651336192,\n",
              " 'though': 0.10153461651336192,\n",
              " 'though sit': 0.10153461651336192,\n",
              " 'thousand': 0.10153461651336192,\n",
              " 'thousand agony': 0.10153461651336192,\n",
              " 'torment': 0.10153461651336192,\n",
              " 'torment rack': 0.10153461651336192,\n",
              " 'underground': 0.10153461651336192,\n",
              " 'underground begin': 0.10153461651336192,\n",
              " 'wall': 0.10153461651336192,\n",
              " 'wall suffer': 0.10153461651336192,\n",
              " 'want': 0.10153461651336192,\n",
              " 'want live': 0.10153461651336192,\n",
              " 'whole': 0.10153461651336192,\n",
              " 'within': 0.10153461651336192,\n",
              " 'within peel': 0.10153461651336192,\n",
              " 'wouldnt': 0.10153461651336192,\n",
              " 'wouldnt believe': 0.10153461651336192,\n",
              " 'yes': 0.10153461651336192,\n",
              " 'yes life': 0.10153461651336192}"
            ]
          },
          "metadata": {},
          "execution_count": 25
        }
      ]
    },
    {
      "cell_type": "code",
      "source": [
        "for token, score in tfidf_scores.items():\n",
        "    print(f\"{token}: {score:.4f}\")"
      ],
      "metadata": {
        "colab": {
          "base_uri": "https://localhost:8080/"
        },
        "id": "0gf-5J4-Zsuq",
        "outputId": "4d2ee40c-750c-40df-a92c-af367fbe026b"
      },
      "execution_count": null,
      "outputs": [
        {
          "output_type": "stream",
          "name": "stdout",
          "text": [
            "able: 0.1015\n",
            "able say: 0.1015\n",
            "afraid: 0.1015\n",
            "afraid beyond: 0.1015\n",
            "agony: 0.1015\n",
            "agony im: 0.1015\n",
            "alexey: 0.1015\n",
            "alexey want: 0.1015\n",
            "alone: 0.1015\n",
            "alone pillar: 0.1015\n",
            "anything: 0.1015\n",
            "anything able: 0.1015\n",
            "begin: 0.1015\n",
            "begin wouldnt: 0.1015\n",
            "believe: 0.1015\n",
            "believe alexey: 0.1015\n",
            "beyond: 0.1015\n",
            "beyond reckon: 0.1015\n",
            "consciousness: 0.1015\n",
            "consciousness sprung: 0.1015\n",
            "could: 0.1015\n",
            "could stand: 0.1015\n",
            "dont: 0.1015\n",
            "dont know: 0.1015\n",
            "even: 0.1015\n",
            "even underground: 0.1015\n",
            "every: 0.1015\n",
            "every moment: 0.1015\n",
            "exist: 0.1015\n",
            "exist thousand: 0.1015\n",
            "existence: 0.1015\n",
            "existence consciousness: 0.1015\n",
            "full: 0.1015\n",
            "full even: 0.1015\n",
            "im: 0.1015\n",
            "im torment: 0.1015\n",
            "know: 0.1015\n",
            "know theres: 0.1015\n",
            "life: 0.1015\n",
            "life full: 0.1015\n",
            "live: 0.1015\n",
            "live thirst: 0.1015\n",
            "moment: 0.1015\n",
            "moment exist: 0.1015\n",
            "peel: 0.1015\n",
            "peel wall: 0.1015\n",
            "pillar: 0.1015\n",
            "pillar see: 0.1015\n",
            "rack: 0.1015\n",
            "rack though: 0.1015\n",
            "reckon: 0.1015\n",
            "reckon seem: 0.1015\n",
            "repeat: 0.1015\n",
            "repeat every: 0.1015\n",
            "say: 0.1015\n",
            "say repeat: 0.1015\n",
            "see: 0.1015\n",
            "see sun: 0.1015\n",
            "seem: 0.1015\n",
            "seem strength: 0.1015\n",
            "sit: 0.1015\n",
            "sit alone: 0.1015\n",
            "sprung: 0.1015\n",
            "sprung within: 0.1015\n",
            "stand: 0.1015\n",
            "stand anything: 0.1015\n",
            "strength: 0.1015\n",
            "strength think: 0.1015\n",
            "suffer: 0.1015\n",
            "suffer afraid: 0.1015\n",
            "sun: 0.1015\n",
            "sun dont: 0.1015\n",
            "theres: 0.1015\n",
            "theres whole: 0.1015\n",
            "think: 0.1015\n",
            "think could: 0.1015\n",
            "thirst: 0.1015\n",
            "thirst existence: 0.1015\n",
            "though: 0.1015\n",
            "though sit: 0.1015\n",
            "thousand: 0.1015\n",
            "thousand agony: 0.1015\n",
            "torment: 0.1015\n",
            "torment rack: 0.1015\n",
            "underground: 0.1015\n",
            "underground begin: 0.1015\n",
            "wall: 0.1015\n",
            "wall suffer: 0.1015\n",
            "want: 0.1015\n",
            "want live: 0.1015\n",
            "whole: 0.1015\n",
            "within: 0.1015\n",
            "within peel: 0.1015\n",
            "wouldnt: 0.1015\n",
            "wouldnt believe: 0.1015\n",
            "yes: 0.1015\n",
            "yes life: 0.1015\n"
          ]
        }
      ]
    },
    {
      "cell_type": "markdown",
      "source": [
        "#Inference"
      ],
      "metadata": {
        "id": "-b8ADYIqZ17W"
      }
    },
    {
      "cell_type": "markdown",
      "source": [
        "Analysis and interpretation\n",
        "\n",
        "The inference from this specific output is that all words have been treated equally by the TF-IDF model because I have provided a single document with uniform term frequencies. For more insightful results, applying TF-IDF across multiple documents would be more effective in highlighting which words or phrases are truly important within the  corpus."
      ],
      "metadata": {
        "id": "sLUkgb-TZ-m7"
      }
    },
    {
      "cell_type": "markdown",
      "source": [
        "# TF-IDF embedding using different documents"
      ],
      "metadata": {
        "id": "0pcD6kNdaHG2"
      }
    },
    {
      "cell_type": "code",
      "source": [
        "#Consider the following data with each sentence being treated as a separate document\n",
        "data = [\"”Yes, life is full, there is life even underground,” he began again.\" ,\n",
        "\"“You wouldn’t believe, Alexey, how I want to live now, what a thirst for existence and consciousness has sprung up in me within these peeling walls…\",\n",
        "\" And what is suffering? I am not afraid of it, even if it were beyond reckoning.\",\n",
        "\" I am not afraid of it now.\",\n",
        "\" I was afraid of it before… And I seem to have such strength in me now, that I think I could stand anything, any suffering, only to be able to say and to repeat to myself every moment, ‘I exist.’\",\n",
        "\"In thousands of agonies—I exist.\",\n",
        "\" I’m tormented on the rack — but I exist! Though I sit alone on a pillar — I exist! I see the sun, and if I don’t see the sun, I know it’s there. And there’s a whole life in that, in knowing that the sun is there.\"\n",
        "]\n"
      ],
      "metadata": {
        "id": "FQSII1X8aAri"
      },
      "execution_count": null,
      "outputs": []
    },
    {
      "cell_type": "code",
      "source": [
        "from sklearn.feature_extraction.text import TfidfVectorizer"
      ],
      "metadata": {
        "id": "UuWbHdFtabN-"
      },
      "execution_count": null,
      "outputs": []
    },
    {
      "cell_type": "code",
      "source": [
        "# Creating the TfidfVectorizer\n",
        "tfidf_vectorizer = TfidfVectorizer(ngram_range=(1, 2), stop_words='english')\n"
      ],
      "metadata": {
        "id": "7oEFhqRuagLo"
      },
      "execution_count": null,
      "outputs": []
    },
    {
      "cell_type": "code",
      "source": [
        "# Fitting the TF-IDF model on the corpus and transform it into TF-IDF scores\n",
        "tfidf_matrix = tfidf_vectorizer.fit_transform(data)\n",
        "tfidf_matrix"
      ],
      "metadata": {
        "colab": {
          "base_uri": "https://localhost:8080/"
        },
        "id": "QW3LqKlaaoQi",
        "outputId": "efd2aedf-1e1d-4c6e-cff6-52844a71ea2a"
      },
      "execution_count": null,
      "outputs": [
        {
          "output_type": "execute_result",
          "data": {
            "text/plain": [
              "<7x75 sparse matrix of type '<class 'numpy.float64'>'\n",
              "\twith 81 stored elements in Compressed Sparse Row format>"
            ]
          },
          "metadata": {},
          "execution_count": 30
        }
      ]
    },
    {
      "cell_type": "code",
      "source": [
        "# Getting the feature names (words/phrases) from the corpus\n",
        "feature_names = tfidf_vectorizer.get_feature_names_out()\n",
        "feature_names"
      ],
      "metadata": {
        "colab": {
          "base_uri": "https://localhost:8080/"
        },
        "id": "sEpgVbkqatP0",
        "outputId": "436afa1a-9644-4aba-d537-a548da8bc15e"
      },
      "execution_count": null,
      "outputs": [
        {
          "output_type": "execute_result",
          "data": {
            "text/plain": [
              "array(['able', 'able say', 'afraid', 'afraid reckoning',\n",
              "       'afraid strength', 'agonies', 'agonies exist', 'alexey',\n",
              "       'alexey want', 'began', 'believe', 'believe alexey',\n",
              "       'consciousness', 'consciousness sprung', 'don', 'don sun', 'exist',\n",
              "       'exist sit', 'exist sun', 'existence', 'existence consciousness',\n",
              "       'know', 'know life', 'knowing', 'knowing sun', 'life',\n",
              "       'life knowing', 'life life', 'life underground', 'live',\n",
              "       'live thirst', 'moment', 'moment exist', 'peeling',\n",
              "       'peeling walls', 'pillar', 'pillar exist', 'rack', 'rack exist',\n",
              "       'reckoning', 'repeat', 'repeat moment', 'say', 'say repeat', 'sit',\n",
              "       'sit pillar', 'sprung', 'sprung peeling', 'stand',\n",
              "       'stand suffering', 'strength', 'strength think', 'suffering',\n",
              "       'suffering able', 'suffering afraid', 'sun', 'sun don', 'sun know',\n",
              "       'think', 'think stand', 'thirst', 'thirst existence', 'thousands',\n",
              "       'thousands agonies', 'tormented', 'tormented rack', 'underground',\n",
              "       'underground began', 'walls', 'want', 'want live', 'wouldn',\n",
              "       'wouldn believe', 'yes', 'yes life'], dtype=object)"
            ]
          },
          "metadata": {},
          "execution_count": 31
        }
      ]
    },
    {
      "cell_type": "code",
      "source": [
        "# Converting the TF-IDF matrix to a dense array for easier readability\n",
        "tfidf_array = tfidf_matrix.toarray()\n",
        "tfidf_array"
      ],
      "metadata": {
        "colab": {
          "base_uri": "https://localhost:8080/"
        },
        "id": "nD_VZ8GWavXr",
        "outputId": "cec7853c-5fb1-4458-9d82-b9653c429fca"
      },
      "execution_count": null,
      "outputs": [
        {
          "output_type": "execute_result",
          "data": {
            "text/plain": [
              "array([[0.        , 0.        , 0.        , 0.        , 0.        ,\n",
              "        0.        , 0.        , 0.        , 0.        , 0.32015502,\n",
              "        0.        , 0.        , 0.        , 0.        , 0.        ,\n",
              "        0.        , 0.        , 0.        , 0.        , 0.        ,\n",
              "        0.        , 0.        , 0.        , 0.        , 0.        ,\n",
              "        0.53151232, 0.        , 0.32015502, 0.32015502, 0.        ,\n",
              "        0.        , 0.        , 0.        , 0.        , 0.        ,\n",
              "        0.        , 0.        , 0.        , 0.        , 0.        ,\n",
              "        0.        , 0.        , 0.        , 0.        , 0.        ,\n",
              "        0.        , 0.        , 0.        , 0.        , 0.        ,\n",
              "        0.        , 0.        , 0.        , 0.        , 0.        ,\n",
              "        0.        , 0.        , 0.        , 0.        , 0.        ,\n",
              "        0.        , 0.        , 0.        , 0.        , 0.        ,\n",
              "        0.        , 0.32015502, 0.32015502, 0.        , 0.        ,\n",
              "        0.        , 0.        , 0.        , 0.32015502, 0.32015502],\n",
              "       [0.        , 0.        , 0.        , 0.        , 0.        ,\n",
              "        0.        , 0.        , 0.21821789, 0.21821789, 0.        ,\n",
              "        0.21821789, 0.21821789, 0.21821789, 0.21821789, 0.        ,\n",
              "        0.        , 0.        , 0.        , 0.        , 0.21821789,\n",
              "        0.21821789, 0.        , 0.        , 0.        , 0.        ,\n",
              "        0.        , 0.        , 0.        , 0.        , 0.21821789,\n",
              "        0.21821789, 0.        , 0.        , 0.21821789, 0.21821789,\n",
              "        0.        , 0.        , 0.        , 0.        , 0.        ,\n",
              "        0.        , 0.        , 0.        , 0.        , 0.        ,\n",
              "        0.        , 0.21821789, 0.21821789, 0.        , 0.        ,\n",
              "        0.        , 0.        , 0.        , 0.        , 0.        ,\n",
              "        0.        , 0.        , 0.        , 0.        , 0.        ,\n",
              "        0.21821789, 0.21821789, 0.        , 0.        , 0.        ,\n",
              "        0.        , 0.        , 0.        , 0.21821789, 0.21821789,\n",
              "        0.21821789, 0.21821789, 0.21821789, 0.        , 0.        ],\n",
              "       [0.        , 0.        , 0.3465257 , 0.48838773, 0.        ,\n",
              "        0.        , 0.        , 0.        , 0.        , 0.        ,\n",
              "        0.        , 0.        , 0.        , 0.        , 0.        ,\n",
              "        0.        , 0.        , 0.        , 0.        , 0.        ,\n",
              "        0.        , 0.        , 0.        , 0.        , 0.        ,\n",
              "        0.        , 0.        , 0.        , 0.        , 0.        ,\n",
              "        0.        , 0.        , 0.        , 0.        , 0.        ,\n",
              "        0.        , 0.        , 0.        , 0.        , 0.48838773,\n",
              "        0.        , 0.        , 0.        , 0.        , 0.        ,\n",
              "        0.        , 0.        , 0.        , 0.        , 0.        ,\n",
              "        0.        , 0.        , 0.40540376, 0.        , 0.48838773,\n",
              "        0.        , 0.        , 0.        , 0.        , 0.        ,\n",
              "        0.        , 0.        , 0.        , 0.        , 0.        ,\n",
              "        0.        , 0.        , 0.        , 0.        , 0.        ,\n",
              "        0.        , 0.        , 0.        , 0.        , 0.        ],\n",
              "       [0.        , 0.        , 1.        , 0.        , 0.        ,\n",
              "        0.        , 0.        , 0.        , 0.        , 0.        ,\n",
              "        0.        , 0.        , 0.        , 0.        , 0.        ,\n",
              "        0.        , 0.        , 0.        , 0.        , 0.        ,\n",
              "        0.        , 0.        , 0.        , 0.        , 0.        ,\n",
              "        0.        , 0.        , 0.        , 0.        , 0.        ,\n",
              "        0.        , 0.        , 0.        , 0.        , 0.        ,\n",
              "        0.        , 0.        , 0.        , 0.        , 0.        ,\n",
              "        0.        , 0.        , 0.        , 0.        , 0.        ,\n",
              "        0.        , 0.        , 0.        , 0.        , 0.        ,\n",
              "        0.        , 0.        , 0.        , 0.        , 0.        ,\n",
              "        0.        , 0.        , 0.        , 0.        , 0.        ,\n",
              "        0.        , 0.        , 0.        , 0.        , 0.        ,\n",
              "        0.        , 0.        , 0.        , 0.        , 0.        ,\n",
              "        0.        , 0.        , 0.        , 0.        , 0.        ],\n",
              "       [0.23771883, 0.23771883, 0.16866861, 0.        , 0.23771883,\n",
              "        0.        , 0.        , 0.        , 0.        , 0.        ,\n",
              "        0.        , 0.        , 0.        , 0.        , 0.        ,\n",
              "        0.        , 0.16866861, 0.        , 0.        , 0.        ,\n",
              "        0.        , 0.        , 0.        , 0.        , 0.        ,\n",
              "        0.        , 0.        , 0.        , 0.        , 0.        ,\n",
              "        0.        , 0.23771883, 0.23771883, 0.        , 0.        ,\n",
              "        0.        , 0.        , 0.        , 0.        , 0.        ,\n",
              "        0.23771883, 0.23771883, 0.23771883, 0.23771883, 0.        ,\n",
              "        0.        , 0.        , 0.        , 0.23771883, 0.23771883,\n",
              "        0.23771883, 0.23771883, 0.19732704, 0.23771883, 0.        ,\n",
              "        0.        , 0.        , 0.        , 0.23771883, 0.23771883,\n",
              "        0.        , 0.        , 0.        , 0.        , 0.        ,\n",
              "        0.        , 0.        , 0.        , 0.        , 0.        ,\n",
              "        0.        , 0.        , 0.        , 0.        , 0.        ],\n",
              "       [0.        , 0.        , 0.        , 0.        , 0.        ,\n",
              "        0.47122483, 0.47122483, 0.        , 0.        , 0.        ,\n",
              "        0.        , 0.        , 0.        , 0.        , 0.        ,\n",
              "        0.        , 0.3343481 , 0.        , 0.        , 0.        ,\n",
              "        0.        , 0.        , 0.        , 0.        , 0.        ,\n",
              "        0.        , 0.        , 0.        , 0.        , 0.        ,\n",
              "        0.        , 0.        , 0.        , 0.        , 0.        ,\n",
              "        0.        , 0.        , 0.        , 0.        , 0.        ,\n",
              "        0.        , 0.        , 0.        , 0.        , 0.        ,\n",
              "        0.        , 0.        , 0.        , 0.        , 0.        ,\n",
              "        0.        , 0.        , 0.        , 0.        , 0.        ,\n",
              "        0.        , 0.        , 0.        , 0.        , 0.        ,\n",
              "        0.        , 0.        , 0.47122483, 0.47122483, 0.        ,\n",
              "        0.        , 0.        , 0.        , 0.        , 0.        ,\n",
              "        0.        , 0.        , 0.        , 0.        , 0.        ],\n",
              "       [0.        , 0.        , 0.        , 0.        , 0.        ,\n",
              "        0.        , 0.        , 0.        , 0.        , 0.        ,\n",
              "        0.        , 0.        , 0.        , 0.        , 0.18047257,\n",
              "        0.18047257, 0.25610136, 0.18047257, 0.18047257, 0.        ,\n",
              "        0.        , 0.18047257, 0.18047257, 0.18047257, 0.18047257,\n",
              "        0.14980773, 0.18047257, 0.        , 0.        , 0.        ,\n",
              "        0.        , 0.        , 0.        , 0.        , 0.        ,\n",
              "        0.18047257, 0.18047257, 0.18047257, 0.18047257, 0.        ,\n",
              "        0.        , 0.        , 0.        , 0.        , 0.18047257,\n",
              "        0.18047257, 0.        , 0.        , 0.        , 0.        ,\n",
              "        0.        , 0.        , 0.        , 0.        , 0.        ,\n",
              "        0.5414177 , 0.18047257, 0.18047257, 0.        , 0.        ,\n",
              "        0.        , 0.        , 0.        , 0.        , 0.18047257,\n",
              "        0.18047257, 0.        , 0.        , 0.        , 0.        ,\n",
              "        0.        , 0.        , 0.        , 0.        , 0.        ]])"
            ]
          },
          "metadata": {},
          "execution_count": 32
        }
      ]
    },
    {
      "cell_type": "code",
      "source": [
        "# Display the TF-IDF scores for each document\n",
        "for i, doc_tfidf in enumerate(tfidf_array):\n",
        "    print(f\"\\nDocument {i+1} TF-IDF Scores:\")\n",
        "    for word, score in zip(feature_names, doc_tfidf):\n",
        "        if score > 0:\n",
        "            print(f\"{word}: {score:.4f}\")"
      ],
      "metadata": {
        "colab": {
          "base_uri": "https://localhost:8080/"
        },
        "id": "PJPomC2_a4_H",
        "outputId": "f8fb0276-9edf-4018-e904-9700903d66a9"
      },
      "execution_count": null,
      "outputs": [
        {
          "output_type": "stream",
          "name": "stdout",
          "text": [
            "\n",
            "Document 1 TF-IDF Scores:\n",
            "began: 0.3202\n",
            "life: 0.5315\n",
            "life life: 0.3202\n",
            "life underground: 0.3202\n",
            "underground: 0.3202\n",
            "underground began: 0.3202\n",
            "yes: 0.3202\n",
            "yes life: 0.3202\n",
            "\n",
            "Document 2 TF-IDF Scores:\n",
            "alexey: 0.2182\n",
            "alexey want: 0.2182\n",
            "believe: 0.2182\n",
            "believe alexey: 0.2182\n",
            "consciousness: 0.2182\n",
            "consciousness sprung: 0.2182\n",
            "existence: 0.2182\n",
            "existence consciousness: 0.2182\n",
            "live: 0.2182\n",
            "live thirst: 0.2182\n",
            "peeling: 0.2182\n",
            "peeling walls: 0.2182\n",
            "sprung: 0.2182\n",
            "sprung peeling: 0.2182\n",
            "thirst: 0.2182\n",
            "thirst existence: 0.2182\n",
            "walls: 0.2182\n",
            "want: 0.2182\n",
            "want live: 0.2182\n",
            "wouldn: 0.2182\n",
            "wouldn believe: 0.2182\n",
            "\n",
            "Document 3 TF-IDF Scores:\n",
            "afraid: 0.3465\n",
            "afraid reckoning: 0.4884\n",
            "reckoning: 0.4884\n",
            "suffering: 0.4054\n",
            "suffering afraid: 0.4884\n",
            "\n",
            "Document 4 TF-IDF Scores:\n",
            "afraid: 1.0000\n",
            "\n",
            "Document 5 TF-IDF Scores:\n",
            "able: 0.2377\n",
            "able say: 0.2377\n",
            "afraid: 0.1687\n",
            "afraid strength: 0.2377\n",
            "exist: 0.1687\n",
            "moment: 0.2377\n",
            "moment exist: 0.2377\n",
            "repeat: 0.2377\n",
            "repeat moment: 0.2377\n",
            "say: 0.2377\n",
            "say repeat: 0.2377\n",
            "stand: 0.2377\n",
            "stand suffering: 0.2377\n",
            "strength: 0.2377\n",
            "strength think: 0.2377\n",
            "suffering: 0.1973\n",
            "suffering able: 0.2377\n",
            "think: 0.2377\n",
            "think stand: 0.2377\n",
            "\n",
            "Document 6 TF-IDF Scores:\n",
            "agonies: 0.4712\n",
            "agonies exist: 0.4712\n",
            "exist: 0.3343\n",
            "thousands: 0.4712\n",
            "thousands agonies: 0.4712\n",
            "\n",
            "Document 7 TF-IDF Scores:\n",
            "don: 0.1805\n",
            "don sun: 0.1805\n",
            "exist: 0.2561\n",
            "exist sit: 0.1805\n",
            "exist sun: 0.1805\n",
            "know: 0.1805\n",
            "know life: 0.1805\n",
            "knowing: 0.1805\n",
            "knowing sun: 0.1805\n",
            "life: 0.1498\n",
            "life knowing: 0.1805\n",
            "pillar: 0.1805\n",
            "pillar exist: 0.1805\n",
            "rack: 0.1805\n",
            "rack exist: 0.1805\n",
            "sit: 0.1805\n",
            "sit pillar: 0.1805\n",
            "sun: 0.5414\n",
            "sun don: 0.1805\n",
            "sun know: 0.1805\n",
            "tormented: 0.1805\n",
            "tormented rack: 0.1805\n"
          ]
        }
      ]
    },
    {
      "cell_type": "markdown",
      "source": [
        "Some explanation and definitions of terms in the above code\n",
        "\n",
        "*tfidf_array: *the dense array that contains the TF-IDF scores for all documents, where each row represents a document and each column corresponds to a word or bigram.\n",
        "\n",
        "doc_tfidf: A list of TF-IDF scores for all terms (unigrams and bigrams) in that particular document.\n",
        "\n",
        "for i, doc_tfidf in enumerate(tfidf_array): This function returns both the index i and the corresponding row doc_tfidf (which holds the TF-IDF scores for a particular document).\n",
        "\n",
        "for word, score in zip(feature_names, doc_tfidf): This zip() function pairs each word (from feature_names) with its corresponding TF-IDF score (from doc_tfidf).\n",
        "\n",
        "feature_names: A list of words or bigrams that were extracted from the corpus.\n",
        "\n",
        "if score > 0: This condition ensures that only terms with a non-zero TF-IDF score are printed.\n",
        "\n",
        "print(f\"\\nDocument {i+1} TF-IDF Scores:\"): In python the indexing starts from 0 , we are making the indexing to start from 1 for output scores for better understanding\n",
        "\n",
        "print(f\"{word}: {score:.4f}\")# we ensure the score to be with only 4 decimal points"
      ],
      "metadata": {
        "id": "YrbSix1wbFzn"
      }
    },
    {
      "cell_type": "markdown",
      "source": [
        "#Inference qnd analysis"
      ],
      "metadata": {
        "id": "Pek68wqLbNLg"
      }
    },
    {
      "cell_type": "markdown",
      "source": [
        "How TF-IDF weighs different words in the dataset\n",
        "\n",
        "The TF-IDF score highlights important terms for each document by balancing between term frequency and inverse document frequency.\n",
        "\n",
        "Words that are common in many documents get lower scores, while terms that are unique to a particular document are given higher weights.\n",
        "\n",
        "By applying TF-IDF across multiple documents, we get a better understanding of which terms are specific to certain documents and which are common across the corpus.\n",
        "\n",
        "Applications:\n",
        "\n",
        "Text Classification: TF-IDF helps in identifying distinguishing words for each document, which can be useful for classifying documents by topic.\n",
        "\n",
        "Information Retrieval: In search engines, TF-IDF can rank documents based on query relevance by giving higher weight to rare but important terms in documents.\n",
        "\n",
        "Document Similarity: The TF-IDF vectors can be used to calculate the similarity between different documents using techniques like cosine similarity. We can find the similarity from the cosine matrix or we can plot the heat map also which can give the relative similarities between the documents also we can use threshold similarity value to avoid non similar documents to be displayed....\n",
        "\n"
      ],
      "metadata": {
        "id": "1cXahmqPbPnq"
      }
    },
    {
      "cell_type": "markdown",
      "source": [
        "#Applying cosine similarity  to TF-IDF matrix to identify the similar documents with heatmap visualisation"
      ],
      "metadata": {
        "id": "fPsSKgmybbYJ"
      }
    },
    {
      "cell_type": "code",
      "source": [
        "# Calculating cosine similarity between the documents\n",
        "from sklearn.metrics.pairwise import cosine_similarity\n",
        "import numpy as np\n",
        "import seaborn as sns\n",
        "import matplotlib.pyplot as plt\n",
        "cosine_sim = cosine_similarity(tfidf_matrix)\n",
        "\n",
        "# Display cosine similarity scores\n",
        "print(\"Cosine Similarity between documents:\")\n",
        "print(cosine_sim)"
      ],
      "metadata": {
        "colab": {
          "base_uri": "https://localhost:8080/"
        },
        "id": "ezUSNO1AbXVL",
        "outputId": "6a3cde70-3acc-4c93-bdc8-eee4fad5ff32"
      },
      "execution_count": null,
      "outputs": [
        {
          "output_type": "stream",
          "name": "stdout",
          "text": [
            "Cosine Similarity between documents:\n",
            "[[1.         0.         0.         0.         0.         0.\n",
            "  0.07962465]\n",
            " [0.         1.         0.         0.         0.         0.\n",
            "  0.        ]\n",
            " [0.         0.         1.         0.3465257  0.13844513 0.\n",
            "  0.        ]\n",
            " [0.         0.         0.3465257  1.         0.16866861 0.\n",
            "  0.        ]\n",
            " [0.         0.         0.13844513 0.16866861 1.         0.05639403\n",
            "  0.04319626]\n",
            " [0.         0.         0.         0.         0.05639403 1.\n",
            "  0.085627  ]\n",
            " [0.07962465 0.         0.         0.         0.04319626 0.085627\n",
            "  1.        ]]\n"
          ]
        }
      ]
    },
    {
      "cell_type": "code",
      "source": [
        "# Plot the cosine similarity matrix\n",
        "sns.heatmap(cosine_sim, annot=True, cmap='coolwarm', fmt='.2f')\n",
        "plt.title('Cosine Similarity Between Documents')\n",
        "plt.show()"
      ],
      "metadata": {
        "colab": {
          "base_uri": "https://localhost:8080/",
          "height": 452
        },
        "id": "nxsn8mktbm4s",
        "outputId": "9948ba51-641e-403c-d88f-8063fe8817b1"
      },
      "execution_count": null,
      "outputs": [
        {
          "output_type": "display_data",
          "data": {
            "text/plain": [
              "<Figure size 640x480 with 2 Axes>"
            ],
            "image/png": "[encoded data removed]"
          },
          "metadata": {}
        }
      ]
    },
    {
      "cell_type": "markdown",
      "source": [
        "Inference:\n",
        "\n",
        "We can see that tere is no significant similarity between the documents and that the documents are individually unique."
      ],
      "metadata": {
        "id": "5-bcI3hSbsB1"
      }
    }
  ]
}